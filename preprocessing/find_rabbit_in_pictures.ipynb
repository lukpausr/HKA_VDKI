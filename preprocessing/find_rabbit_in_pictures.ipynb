{
 "cells": [
  {
   "cell_type": "markdown",
   "id": "4c11f018",
   "metadata": {},
   "source": [
    "## Demo Skript to determine single pictures of bunnies from group photos"
   ]
  },
  {
   "cell_type": "code",
   "execution_count": 1,
   "id": "1d8a8192",
   "metadata": {},
   "outputs": [
    {
     "name": "stderr",
     "output_type": "stream",
     "text": [
      "Seed set to 42\n"
     ]
    },
    {
     "name": "stdout",
     "output_type": "stream",
     "text": [
      "PC Name: DESKTOP-MIKA\n",
      "Loaded configuration from ../config/config_mika.yaml\n"
     ]
    }
   ],
   "source": [
    "import sys\n",
    "import os\n",
    "\n",
    "# Add the project root to sys.path so 'config' can be imported\n",
    "project_root = os.path.abspath(os.path.join(os.getcwd(), '..'))\n",
    "if project_root not in sys.path:\n",
    "    sys.path.insert(0, project_root)\n",
    "    \n",
    "import torch\n",
    "from torchvision import transforms\n",
    "from PIL import Image, ImageDraw\n",
    "import os\n",
    "import pytorch_lightning as pl\n",
    "\n",
    "from config.load_configuration import load_configuration\n",
    "config = load_configuration()\n",
    "\n",
    "pl.seed_everything(config['seed'])\n",
    "os.environ[\"TF_ENABLE_ONEDNN_OPTS\"] = \"0\"   # disable oneDNN optimizations for reproducibility"
   ]
  },
  {
   "cell_type": "code",
   "execution_count": 2,
   "id": "c5d733a1",
   "metadata": {},
   "outputs": [
    {
     "name": "stderr",
     "output_type": "stream",
     "text": [
      "f:\\Users\\Mika\\Anaconda\\envs\\VDKI-Projekt\\Lib\\site-packages\\torchvision\\models\\_utils.py:208: UserWarning: The parameter 'pretrained' is deprecated since 0.13 and may be removed in the future, please use 'weights' instead.\n",
      "  warnings.warn(\n",
      "f:\\Users\\Mika\\Anaconda\\envs\\VDKI-Projekt\\Lib\\site-packages\\torchvision\\models\\_utils.py:223: UserWarning: Arguments other than a weight enum or `None` for 'weights' are deprecated since 0.13 and may be removed in the future. The current behavior is equivalent to passing `weights=FasterRCNN_ResNet50_FPN_Weights.COCO_V1`. You can also use `weights=FasterRCNN_ResNet50_FPN_Weights.DEFAULT` to get the most up-to-date weights.\n",
      "  warnings.warn(msg)\n"
     ]
    }
   ],
   "source": [
    "import torchvision\n",
    "model = torchvision.models.detection.fasterrcnn_resnet50_fpn(pretrained=True)"
   ]
  },
  {
   "cell_type": "code",
   "execution_count": 3,
   "id": "0c174b36",
   "metadata": {},
   "outputs": [
    {
     "name": "stdout",
     "output_type": "stream",
     "text": [
      "Found 3 rabbit-like objects in IMG_0140.jpg.\n"
     ]
    }
   ],
   "source": [
    "model.eval()\n",
    "\n",
    "# COCO class index for rabbit is not present, so let's use 'rabbit' from a custom model or fallback to 'dog' or 'cat' for demonstration.\n",
    "# For real rabbit detection, you would need a model trained to detect rabbits specifically.\n",
    "\n",
    "# Helper function to get bounding boxes for rabbits\n",
    "def get_rabbit_boxes(image, threshold=0.5):                                                         #TODO: adjust threshold as necessary\n",
    "    transform = transforms.Compose([\n",
    "        transforms.ToTensor(),\n",
    "    ])\n",
    "    img_tensor = transform(image)\n",
    "    with torch.no_grad():\n",
    "        prediction = model([img_tensor])[0]\n",
    "    boxes = []\n",
    "    labels = prediction['labels'].tolist()\n",
    "    scores = prediction['scores'].tolist()\n",
    "    # print(labels, scores)                                                                         #TODO: show labels and scores\n",
    "    accepted_labels = [88, 16, 17, 18, 19, 20, 21, 22, 23, 24, 25]  # COCO classes for animals      #TODO: add labels as necessary\n",
    "    # COCO: 17=cat, 18=dog, 19=horse, 20=sheep, 21=cow, 22=elephant, 23=bear, 24=zebra, 25=giraffe\n",
    "    for box, label, score in zip(prediction['boxes'], labels, scores):\n",
    "        if label in accepted_labels and score > threshold:\n",
    "            boxes.append(box.int().tolist())\n",
    "    return boxes\n",
    "\n",
    "def save_rabbit_crops(image_path, border=10):\n",
    "    image = Image.open(image_path).convert(\"RGB\")\n",
    "    import matplotlib.pyplot as plt\n",
    "\n",
    "    # plt.imshow(image) # Uncomment to visualize the image                                          #TODO: Kernel crashes\n",
    "    # plt.axis('off')\n",
    "    # plt.show()\n",
    "\n",
    "    boxes = get_rabbit_boxes(image)\n",
    "    print(f\"Found {len(boxes)} rabbit-like objects in {image_path}.\")\n",
    "    base, ext = os.path.splitext(image_path)\n",
    "    for idx, box in enumerate(boxes):\n",
    "        x1, y1, x2, y2 = box\n",
    "        # Add border, ensuring we don't go out of image bounds\n",
    "        x1b = max(0, x1 - border)\n",
    "        y1b = max(0, y1 - border)\n",
    "        x2b = min(image.width, x2 + border)\n",
    "        y2b = min(image.height, y2 + border)\n",
    "        crop = image.crop((x1b, y1b, x2b, y2b))\n",
    "        crop.save(f\"{base}_{idx+1}{ext}\")\n",
    "\n",
    "# Example usage:\n",
    "save_rabbit_crops('IMG_0140.jpg', border=20)\n"
   ]
  }
 ],
 "metadata": {
  "kernelspec": {
   "display_name": "VDKI-Projekt",
   "language": "python",
   "name": "python3"
  },
  "language_info": {
   "codemirror_mode": {
    "name": "ipython",
    "version": 3
   },
   "file_extension": ".py",
   "mimetype": "text/x-python",
   "name": "python",
   "nbconvert_exporter": "python",
   "pygments_lexer": "ipython3",
   "version": "3.12.3"
  }
 },
 "nbformat": 4,
 "nbformat_minor": 5
}
