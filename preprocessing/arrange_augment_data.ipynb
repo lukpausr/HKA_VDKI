{
 "cells": [
  {
   "cell_type": "code",
   "execution_count": 1,
   "id": "86396df2",
   "metadata": {},
   "outputs": [],
   "source": [
    "import os\n",
    "import shutil\n",
    "from sklearn.model_selection import train_test_split\n",
    "import torch\n",
    "import torchvision.transforms as T\n",
    "from PIL import Image\n",
    "import matplotlib.pyplot as plt\n",
    "import numpy as np\n",
    "import torchvision.transforms.functional as F\n",
    "import random\n",
    "from PIL import ImageChops\n",
    "import math\n",
    "import sys"
   ]
  },
  {
   "cell_type": "markdown",
   "id": "8a0a5e5e",
   "metadata": {},
   "source": [
    "### Loading Configuration\n",
    "\n",
    "In the following steps, we will load the configuration settings using the `load_configuration` function. The configuration is stored in the `config` variable which will b"
   ]
  },
  {
   "cell_type": "code",
   "execution_count": 13,
   "id": "0aab05d3",
   "metadata": {},
   "outputs": [
    {
     "name": "stdout",
     "output_type": "stream",
     "text": [
      "CWD: c:\\Users\\lobster\\Documents\\HKA\\Kurse\\VDKI\\Projekt\\GIT_VDKI\\HKA_VDKI\n",
      "PC Name: DESKTOP-BLKLC13\n"
     ]
    },
    {
     "ename": "FileNotFoundError",
     "evalue": "[Errno 2] No such file or directory: 'config/config_luka.yaml'",
     "output_type": "error",
     "traceback": [
      "\u001b[31m---------------------------------------------------------------------------\u001b[39m",
      "\u001b[31mFileNotFoundError\u001b[39m                         Traceback (most recent call last)",
      "\u001b[36mFile \u001b[39m\u001b[32mc:\\Users\\lobster\\Documents\\HKA\\Kurse\\VDKI\\Projekt\\GIT_VDKI\\HKA_VDKI\\config\\load_configuration.py:32\u001b[39m, in \u001b[36mload_configuration\u001b[39m\u001b[34m()\u001b[39m\n\u001b[32m     31\u001b[39m \u001b[38;5;66;03m# Load the configuration file\u001b[39;00m\n\u001b[32m---> \u001b[39m\u001b[32m32\u001b[39m \u001b[38;5;28;01mwith\u001b[39;00m \u001b[38;5;28;43mopen\u001b[39;49m\u001b[43m(\u001b[49m\u001b[43mconfig_path\u001b[49m\u001b[43m)\u001b[49m \u001b[38;5;28;01mas\u001b[39;00m f:\n\u001b[32m     33\u001b[39m     config = yaml.safe_load(f)\n",
      "\u001b[31mFileNotFoundError\u001b[39m: [Errno 2] No such file or directory: 'config/config_luka.yaml'",
      "\nDuring handling of the above exception, another exception occurred:\n",
      "\u001b[31mFileNotFoundError\u001b[39m                         Traceback (most recent call last)",
      "\u001b[36mCell\u001b[39m\u001b[36m \u001b[39m\u001b[32mIn[13]\u001b[39m\u001b[32m, line 4\u001b[39m\n\u001b[32m      2\u001b[39m os.chdir(os.path.abspath(os.path.join(os.getcwd(), \u001b[33m'\u001b[39m\u001b[33m..\u001b[39m\u001b[33m'\u001b[39m)))\n\u001b[32m      3\u001b[39m \u001b[38;5;28;01mfrom\u001b[39;00m\u001b[38;5;250m \u001b[39m\u001b[34;01mconfig\u001b[39;00m\u001b[34;01m.\u001b[39;00m\u001b[34;01mload_configuration\u001b[39;00m\u001b[38;5;250m \u001b[39m\u001b[38;5;28;01mimport\u001b[39;00m load_configuration\n\u001b[32m----> \u001b[39m\u001b[32m4\u001b[39m config = \u001b[43mload_configuration\u001b[49m\u001b[43m(\u001b[49m\u001b[43m)\u001b[49m\n",
      "\u001b[36mFile \u001b[39m\u001b[32mc:\\Users\\lobster\\Documents\\HKA\\Kurse\\VDKI\\Projekt\\GIT_VDKI\\HKA_VDKI\\config\\load_configuration.py:50\u001b[39m, in \u001b[36mload_configuration\u001b[39m\u001b[34m()\u001b[39m\n\u001b[32m     47\u001b[39m     config_path = \u001b[33m\"\u001b[39m\u001b[33m../config/config_mika.yaml\u001b[39m\u001b[33m\"\u001b[39m\n\u001b[32m     49\u001b[39m \u001b[38;5;66;03m# Load the configuration file\u001b[39;00m\n\u001b[32m---> \u001b[39m\u001b[32m50\u001b[39m \u001b[38;5;28;01mwith\u001b[39;00m \u001b[38;5;28;43mopen\u001b[39;49m\u001b[43m(\u001b[49m\u001b[43mconfig_path\u001b[49m\u001b[43m)\u001b[49m \u001b[38;5;28;01mas\u001b[39;00m f:\n\u001b[32m     51\u001b[39m     config = yaml.safe_load(f)\n\u001b[32m     52\u001b[39m     \u001b[38;5;28mprint\u001b[39m(\u001b[33mf\u001b[39m\u001b[33m\"\u001b[39m\u001b[33mLoaded configuration from \u001b[39m\u001b[38;5;132;01m{\u001b[39;00mconfig_path\u001b[38;5;132;01m}\u001b[39;00m\u001b[33m\"\u001b[39m)\n",
      "\u001b[31mFileNotFoundError\u001b[39m: [Errno 2] No such file or directory: 'config/config_luka.yaml'"
     ]
    }
   ],
   "source": [
    "print(\"CWD:\", os.getcwd())\n",
    "os.chdir(os.path.abspath(os.path.join(os.getcwd(), '..')))\n",
    "from config.load_configuration import load_configuration\n",
    "config = load_configuration()"
   ]
  },
  {
   "cell_type": "markdown",
   "id": "38dc4c0a",
   "metadata": {},
   "source": [
    "Seeds oder ähnliches Setzten, um wiederholbarkeit herzustellen??\n",
    "Bei den Splits habe ich seeds händisch gesetzt"
   ]
  },
  {
   "cell_type": "code",
   "execution_count": 12,
   "id": "438e1f58",
   "metadata": {},
   "outputs": [
    {
     "name": "stdout",
     "output_type": "stream",
     "text": [
      "C:\\Users\\lobster\\Documents\\HKA\\Kurse\\VDKI\\Projekt\\test_photos\n"
     ]
    }
   ],
   "source": [
    "# Paths\n",
    "source_dir = config['path_to_raw_pics']\n",
    "output_dir = config['path_to_split_aug_pics']\n",
    "class_names = os.listdir(source_dir)  # e.g., ['bunny', 'cat', 'dog']\n",
    "\n",
    "print(source_dir)\n",
    "\n",
    "# Split ratios\n",
    "train_ratio = 0.7\n",
    "val_ratio = 0.15\n",
    "test_ratio = 0.15\n",
    "\n",
    "# Make folders\n",
    "for split in ['train', 'val', 'test']:\n",
    "    os.makedirs(os.path.join(output_dir, split), exist_ok=True)\n",
    "\n",
    "# Split and move files (no subfolders)\n",
    "for class_name in class_names:\n",
    "    class_dir = os.path.join(source_dir, class_name)\n",
    "    files = os.listdir(class_dir)\n",
    "\n",
    "    train_val, test = train_test_split(files, test_size=test_ratio, random_state=config['seed'])\n",
    "    train, val = train_test_split(train_val, test_size=val_ratio / (train_ratio + val_ratio), random_state=config['seed'])\n",
    "\n",
    "    for split, split_files in zip(['train', 'val', 'test'], [train, val, test]):\n",
    "        for file in split_files:\n",
    "            src = os.path.join(class_dir, file)\n",
    "\n",
    "            # Prefix with class name to prevent collisions\n",
    "            filename = f\"{file}\"\n",
    "            dst = os.path.join(output_dir, split, filename)\n",
    "\n",
    "            shutil.copy2(src, dst)"
   ]
  },
  {
   "cell_type": "code",
   "execution_count": 4,
   "id": "35213bd5",
   "metadata": {},
   "outputs": [
    {
     "name": "stdout",
     "output_type": "stream",
     "text": [
      "['Kleintiere', 'Zwergkaninchen']\n"
     ]
    }
   ],
   "source": [
    "print(class_names)"
   ]
  },
  {
   "cell_type": "markdown",
   "id": "c8e32457",
   "metadata": {},
   "source": [
    "### Augmentation"
   ]
  },
  {
   "cell_type": "code",
   "execution_count": null,
   "id": "f59e515b",
   "metadata": {},
   "outputs": [
    {
     "name": "stdout",
     "output_type": "stream",
     "text": [
      "Deleted original: Frettchen_0002_nok.jpg\n",
      "Generated 6 variants for: Frettchen_0002_nok.jpg\n",
      "Deleted original: Zwergkaninchen_0002_ok.jpg\n",
      "Generated 6 variants for: Zwergkaninchen_0002_ok.jpg\n",
      "Deleted original: Zwergkaninchen_0009_ok.jpg\n",
      "Generated 6 variants for: Zwergkaninchen_0009_ok.jpg\n",
      "Deleted original: Frettchen_0001_nok.jpg\n",
      "Generated 6 variants for: Frettchen_0001_nok.jpg\n",
      "Deleted original: Frettchen_0003_nok.jpg\n",
      "Generated 6 variants for: Frettchen_0003_nok.jpg\n",
      "Deleted original: Zwergkaninchen_0003_ok.jpg\n",
      "Generated 6 variants for: Zwergkaninchen_0003_ok.jpg\n",
      "Deleted original: Zwergkaninchen_0004_ok.jpg\n",
      "Generated 6 variants for: Zwergkaninchen_0004_ok.jpg\n",
      "Deleted original: Zwergkaninchen_0006_ok.jpg\n",
      "Generated 6 variants for: Zwergkaninchen_0006_ok.jpg\n",
      "Deleted original: Zwergkaninchen_0007_ok.jpg\n",
      "Generated 6 variants for: Zwergkaninchen_0007_ok.jpg\n",
      "Deleted original: Zwergkaninchen_0008_ok.jpg\n",
      "Generated 6 variants for: Zwergkaninchen_0008_ok.jpg\n",
      "Deleted original: Zwergkaninchen_0010_ok.jpg\n",
      "Generated 6 variants for: Zwergkaninchen_0010_ok.jpg\n",
      "Deleted original: Frettchen_0004_nok.jpg\n",
      "Generated 6 variants for: Frettchen_0004_nok.jpg\n",
      "Deleted original: Zwergkaninchen_0001_ok.jpg\n",
      "Generated 6 variants for: Zwergkaninchen_0001_ok.jpg\n",
      "Deleted original: Zwergkaninchen_0005_ok.jpg\n",
      "Generated 6 variants for: Zwergkaninchen_0005_ok.jpg\n"
     ]
    }
   ],
   "source": [
    "# Define transforms\n",
    "flip = T.RandomHorizontalFlip(p=1.0)\n",
    "\n",
    "\n",
    "def rotate_crop_borders(img, angle):\n",
    "    rotate_plus = T.RandomRotation(degrees=(angle, angle))\n",
    "    img = rotate_plus(img)\n",
    "\n",
    "\n",
    "    angle_deg = angle % 180\n",
    "    if angle_deg > 90:\n",
    "        angle_deg = 180 - angle_deg\n",
    "    angle_rad = math.radians(angle_deg)  # Only convert once here\n",
    "\n",
    "    sin_a = math.sin(angle_rad)\n",
    "    cos_a = math.cos(angle_rad)\n",
    "\n",
    "    if img.height * sin_a <= img.width * cos_a:\n",
    "        new_w = (img.width * cos_a) - (img.height * sin_a)\n",
    "        new_h = (img.height * cos_a) - (img.width * sin_a)\n",
    "    else:\n",
    "        new_w = (img.height * cos_a) - (img.width * sin_a)\n",
    "        new_h = (img.width * cos_a) - (img.height * sin_a)\n",
    "\n",
    "    left = (img.width - new_w) // 2\n",
    "    top = (img.height - new_h) // 2\n",
    "    right = left + new_w\n",
    "    bottom = top + new_h\n",
    "    return img.crop((left, top, right, bottom))\n",
    "\n",
    "def adjust_gamma(image, gamma):\n",
    "    if image.mode != 'RGB':\n",
    "        image = image.convert('RGB')\n",
    "    inv_gamma = 1.0 / gamma\n",
    "    table = [((i / 255.0) ** inv_gamma) * 255 for i in range(256)]\n",
    "    table = np.array(table).astype(\"uint8\")\n",
    "    r, g, b = image.split()\n",
    "    r = r.point(table)\n",
    "    g = g.point(table)\n",
    "    b = b.point(table)\n",
    "    return Image.merge('RGB', (r, g, b))\n",
    "\n",
    "def apply_extra_augments(img):\n",
    "    # Randomize jitter parameters\n",
    "    brightness = random.uniform(0, 0.3)\n",
    "    contrast = random.uniform(0, 0.3)\n",
    "    hue = random.uniform(0, 0.1)\n",
    "    saturation = random.uniform(0, 0.3)\n",
    "\n",
    "    # Apply jitter and blur\n",
    "    jitter = T.ColorJitter(brightness=brightness, contrast=contrast)\n",
    "    hue_sat = T.ColorJitter(hue=hue, saturation=saturation)\n",
    "\n",
    "    img = jitter(img)\n",
    "    img = hue_sat(img)\n",
    "\n",
    "    if random.random() < 0.7:  # Optional: Blur sometimes\n",
    "        img = T.GaussianBlur(kernel_size=5)(img)\n",
    "    if random.random() < 0.7:  # Optional: Blur sometimes\n",
    "        gamma = random.uniform(0.4, 0.8)\n",
    "        img = adjust_gamma(img, gamma)\n",
    "\n",
    "    return img\n",
    "\n",
    "# Valid image extensions\n",
    "valid_exts = ('.jpg', '.jpeg', '.png')\n",
    "\n",
    "# Loop through class folders\n",
    "for class_name in os.listdir(output_dir):\n",
    "    class_path = os.path.join(output_dir, class_name)\n",
    "    if not os.path.isdir(class_path):\n",
    "        continue\n",
    "\n",
    "    for filename in os.listdir(class_path):\n",
    "        brightness = random.uniform(0, 0.4)\n",
    "        contrast = random.uniform(0, 0.4)\n",
    "        hue = random.uniform(0, 0.2)\n",
    "        saturation = random.uniform(0, 0.4)\n",
    "        anglePlus = random.uniform(5, 15)\n",
    "        angleMinus = random.uniform(-5, -15)\n",
    "        \n",
    "        if not filename.lower().endswith(valid_exts):\n",
    "            continue\n",
    "\n",
    "        filepath = os.path.join(class_path, filename)\n",
    "        name, ext = os.path.splitext(filename)\n",
    "\n",
    "        # Load original image\n",
    "        original = Image.open(filepath).convert(\"RGB\")\n",
    "\n",
    "        # Detect and preserve original label suffix (_ok or _nok)\n",
    "        if '_ok' in name:\n",
    "            base_name = name.split('_ok')[0] + '_ok'\n",
    "        elif '_nok' in name:\n",
    "            base_name = name.split('_nok')[0] + '_nok'\n",
    "        else:\n",
    "            base_name = name  # fallback if no label is found\n",
    "\n",
    "        # v0 - original, saved as _v0\n",
    "        v0_path = os.path.join(class_path, f\"{base_name}_v0{ext}\")\n",
    "        original.save(v0_path)\n",
    "\n",
    "        # Optionally remove the original if it’s not already a _v0 version\n",
    "        if not name.endswith('_v0'):\n",
    "            try:\n",
    "                os.remove(filepath)\n",
    "                print(f\"Deleted original: {filename}\")\n",
    "            except Exception as e:\n",
    "                print(f\"Could not delete original {filename}: {e}\")\n",
    "\n",
    "\n",
    "        # v1 - flipped\n",
    "        v1 = flip(original)\n",
    "        v1.save(os.path.join(class_path, f\"{base_name}_v1{ext}\"))\n",
    "\n",
    "        # v2 - rotated +5° + jitter + blur\n",
    "        v2 = rotate_crop_borders(original, anglePlus)\n",
    "        v2 = apply_extra_augments(v2)\n",
    "        v2.save(os.path.join(class_path, f\"{base_name}_v2{ext}\"))\n",
    "\n",
    "        # v3 - rotated -5° + jitter + blur\n",
    "        v3 = rotate_crop_borders(original, angleMinus)\n",
    "        v3 = apply_extra_augments(v3)\n",
    "        v3.save(os.path.join(class_path, f\"{base_name}_v3{ext}\"))\n",
    "\n",
    "        # v4 - flipped + rotated +5° + jitter + blur\n",
    "        v4 = rotate_crop_borders(original, anglePlus)\n",
    "        v4 = apply_extra_augments(v4)\n",
    "        v4.save(os.path.join(class_path, f\"{base_name}_v4{ext}\"))\n",
    "\n",
    "        # v5 - flipped + rotated -5° + jitter + blur\n",
    "        v5 = rotate_crop_borders(original, angleMinus)\n",
    "        v5 = apply_extra_augments(v5)\n",
    "        v5.save(os.path.join(class_path, f\"{base_name}_v5{ext}\"))\n",
    "\n",
    "        #print(f\"Generated 6 variants for: {filename}\")"
   ]
  },
  {
   "cell_type": "code",
   "execution_count": null,
   "id": "12cec36c",
   "metadata": {},
   "outputs": [],
   "source": []
  }
 ],
 "metadata": {
  "kernelspec": {
   "display_name": "VDKI-Projekt",
   "language": "python",
   "name": "python3"
  },
  "language_info": {
   "codemirror_mode": {
    "name": "ipython",
    "version": 3
   },
   "file_extension": ".py",
   "mimetype": "text/x-python",
   "name": "python",
   "nbconvert_exporter": "python",
   "pygments_lexer": "ipython3",
   "version": "3.12.3"
  }
 },
 "nbformat": 4,
 "nbformat_minor": 5
}
