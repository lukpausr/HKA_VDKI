{
 "cells": [
  {
   "cell_type": "code",
   "execution_count": 1,
   "id": "0f4845e5",
   "metadata": {},
   "outputs": [],
   "source": [
    "import os\n",
    "import math\n",
    "import torch\n",
    "import wandb\n",
    "import pytorch_lightning as pl\n",
    "from pytorch_lightning import Trainer\n",
    "from pytorch_lightning.loggers import WandbLogger\n",
    "from pytorch_lightning.callbacks.early_stopping import EarlyStopping\n",
    "from pytorch_lightning.utilities.model_summary import ModelSummary\n",
    "from torchvision.transforms import v2\n",
    "import timm\n",
    "from datetime import datetime\n",
    "\n",
    "import matplotlib.pyplot as plt\n",
    "\n",
    "from data.datamodule import MultiClassImageDataModule\n",
    "from models.model_facedetection import TransferLearningModuleMulticlass"
   ]
  },
  {
   "cell_type": "markdown",
   "id": "117666f9",
   "metadata": {},
   "source": [
    "### Loading Configuration\n",
    "\n",
    "In the following steps, we will load the configuration settings using the `load_configuration` function. The configuration is stored in the `config` variable which will be used throughout the script."
   ]
  },
  {
   "cell_type": "code",
   "execution_count": 2,
   "id": "74321032",
   "metadata": {},
   "outputs": [
    {
     "name": "stdout",
     "output_type": "stream",
     "text": [
      "PC Name: DESKTOP-MIKA\n",
      "Loaded configuration from config/config_mika.yaml\n"
     ]
    }
   ],
   "source": [
    "from config.load_configuration import load_configuration\n",
    "config = load_configuration()"
   ]
  },
  {
   "cell_type": "markdown",
   "id": "414378fc",
   "metadata": {},
   "source": [
    "### Setting Seeds for Reproducibility\n",
    "\n",
    "To ensure comparable and reproducible results, we set the random seed using the `seed_everything` function from PyTorch Lightning. This helps in achieving consistent behavior across multiple runs of the notebook."
   ]
  },
  {
   "cell_type": "code",
   "execution_count": 3,
   "id": "06e10d3f",
   "metadata": {},
   "outputs": [
    {
     "name": "stderr",
     "output_type": "stream",
     "text": [
      "Seed set to 42\n"
     ]
    }
   ],
   "source": [
    "pl.seed_everything(config['seed'])\n",
    "os.environ[\"TF_ENABLE_ONEDNN_OPTS\"] = \"0\"   # disable oneDNN optimizations for reproducibility"
   ]
  },
  {
   "cell_type": "markdown",
   "id": "4c86df64",
   "metadata": {},
   "source": [
    "### Checking for GPU Devices\n",
    "\n",
    "In this step, we check for the availability of GPU devices and print the device currently being used by PyTorch. This ensures that the computations are performed on the most efficient hardware available."
   ]
  },
  {
   "cell_type": "code",
   "execution_count": 5,
   "id": "d9b717a7",
   "metadata": {},
   "outputs": [
    {
     "name": "stdout",
     "output_type": "stream",
     "text": [
      "Torch Version:  2.7.1+cpu\n",
      "Using device:  cpu\n"
     ]
    }
   ],
   "source": [
    "# Check if CUDA is available and set device\n",
    "device = torch.device('cuda' if torch.cuda.is_available() else 'cpu')\n",
    "\n",
    "print('Torch Version: ', torch.__version__)\n",
    "print('Using device: ', device)\n",
    "if device.type == 'cuda':\n",
    "    print('Cuda Version: ', torch.version.cuda)\n",
    "    print(torch.cuda.get_device_name(0))\n",
    "    print('Memory Usage:')\n",
    "    print('Allocated:', round(torch.cuda.memory_allocated(0)/1024**3,1), 'GB')\n",
    "    print('Cached:   ', round(torch.cuda.memory_reserved(0)/1024**3,1), 'GB')\n",
    "    torch.set_float32_matmul_precision('high')"
   ]
  },
  {
   "cell_type": "markdown",
   "id": "9177b86e",
   "metadata": {},
   "source": [
    "### Defining Transformations and Instantiating DataModule\n",
    "\n",
    "In this step, we will define the necessary data transformations and initialize the `MulticlassImageDataModule` with the provided configuration."
   ]
  },
  {
   "cell_type": "code",
   "execution_count": null,
   "id": "df954014",
   "metadata": {},
   "outputs": [],
   "source": [
    "transform = v2.Compose([\n",
    "    v2.Resize((300, 300)),  # Resize images to match EfficientNet input size\n",
    "    v2.ToTensor(),\n",
    "    v2.Normalize(mean=[0.485, 0.456, 0.406], std=[0.229, 0.224, 0.225])  # Standard ImageNet normalization\n",
    "])\n",
    "\n",
    "dm = MultiClassImageDataModule(data_dir=config['path_to_bunnie_data_aug'], name_list=config['name_list'], transform=transform, batch_size=config['batch_size'], num_workers=2, persistent_workers=True)\n",
    "dm.setup()\n",
    "\n",
    "train_loader = dm.train_dataloader()\n",
    "val_loader = dm.val_dataloader()\n",
    "# test_loader = dm.test_dataloader()\n",
    "test_loader = val_loader  # Use validation data (from Janik) for testing in this example\n",
    "\n",
    "# Show a few images from the training set\n",
    "# from torchvision.utils import make_grid\n",
    "# def show_images(loader):\n",
    "#     images, labels = next(iter(loader))\n",
    "#     images = images[:16]  # Show only the first 16 images\n",
    "#     labels = labels[:16]\n",
    "#     grid = make_grid(images, nrow=4, padding=2)\n",
    "#     plt.figure(figsize=(10, 10))\n",
    "#     plt.imshow(grid.permute(1, 2, 0).numpy())\n",
    "#     plt.title('Sample Images')\n",
    "#     plt.axis('off')\n",
    "#     plt.show()\n",
    "#     print(labels[:16])  # Print corresponding labels\n",
    "# # show_images(train_loader)\n",
    "\n",
    "print('Train dataset size:', len(dm.train_dataset))\n",
    "print('Validation dataset size:', len(dm.val_dataset))\n",
    "print('Test dataset size:', len(dm.test_dataset))\n",
    "print('Example train data shape:', dm.train_dataset[0][0].shape)\n",
    "print('Example train label:', dm.train_dataset[0][1])\n",
    "print('Example val data shape:', dm.val_dataset[0][0].shape)\n",
    "print('Example val label:', dm.val_dataset[0][1])"
   ]
  },
  {
   "cell_type": "markdown",
   "id": "9c560cb9",
   "metadata": {},
   "source": [
    "### Creating the Model\n",
    "\n",
    "In this step, we will define the model architecture and print its summary using the `ModelSummary` utility from PyTorch Lightning. This provides an overview of the model's layers, parameters, and structure."
   ]
  },
  {
   "cell_type": "code",
   "execution_count": null,
   "id": "f3442708",
   "metadata": {},
   "outputs": [],
   "source": [
    "from models.model_facedetection import TL_EfficientNetB4, TL_ConvNextV2\n",
    "# model = TL_EfficientNetB4(num_classes=len(config['name_list']))\n",
    "model = TL_ConvNextV2(num_classes=len(config['name_list']))\n",
    "print(ModelSummary(model, max_depth=-1))\n",
    "\n",
    "# Initialize the Wandb logger\n",
    "# add time to the name of the experiment\n",
    "import datetime\n",
    "now = datetime.datetime.now()\n",
    "current_time = now.strftime(\"%Y-%m-%d_%H-%M-%S\")\n",
    "\n",
    "# Initialize wandb logger\n",
    "wandb_logger = WandbLogger(\n",
    "    project=config['wandb_project_name'],\n",
    "    name=f\"{config['wandb_experiment_name']}_{type(model).__name__}_{current_time}\",\n",
    "    config={\n",
    "        'model': type(model).__name__,\n",
    "        'dataset': 'DwarfRabbits-binary',\n",
    "        'batch_size': config['batch_size'],\n",
    "        'max_epochs': config['max_epochs'],\n",
    "        'learning_rate': config['learning_rate']\n",
    "    }\n",
    ")\n",
    "\n",
    "# Initialize Trainer with wandb logger, using early stopping callback (https://lightning.ai/docs/pytorch/stable/common/early_stopping.html)\n",
    "trainer = Trainer(\n",
    "    max_epochs=config['max_epochs'], \n",
    "    default_root_dir='model/checkpoint/', #data_directory, \n",
    "    accelerator=\"auto\", \n",
    "    devices=\"auto\", \n",
    "    strategy=\"auto\",\n",
    "    callbacks=[EarlyStopping(monitor='val_loss', patience=5, mode='min')], \n",
    "    logger=wandb_logger\n",
    "    )"
   ]
  },
  {
   "cell_type": "markdown",
   "id": "a3b53050",
   "metadata": {},
   "source": [
    "## Train the model"
   ]
  },
  {
   "cell_type": "code",
   "execution_count": null,
   "id": "04204521",
   "metadata": {},
   "outputs": [],
   "source": [
    "# Training of the model\n",
    "trainer.fit(model=model, datamodule=dm)\n",
    "\n",
    "# Finish wandb\n",
    "wandb.finish()\n",
    "\n",
    "# Save the trained model checkpoint\n",
    "timestamp = datetime.datetime.now().strftime(\"%Y%m%d_%H%M%S\")\n",
    "save_path = os.path.join(config['path_to_models'], f\"{model.model_name}_model_{timestamp}.ckpt\")\n",
    "trainer.save_checkpoint(save_path)\n",
    "print(f\"Model saved to: {save_path}\")\n",
    "config['path_to_model'] = save_path"
   ]
  },
  {
   "cell_type": "markdown",
   "id": "2c62725a",
   "metadata": {},
   "source": [
    "## Load pretrained model and perform evaluation"
   ]
  },
  {
   "cell_type": "code",
   "execution_count": null,
   "id": "937a7074",
   "metadata": {},
   "outputs": [],
   "source": [
    "model = TransferLearningModuleMulticlass.load_from_checkpoint(\n",
    "    config['path_to_model'],\n",
    "    model=timm.create_model('efficientnet_b4', pretrained=False, num_classes=len(config['name_list'])),\n",
    "    num_classes=len(config['name_list'])\n",
    ")\n",
    "# Put model in evaluation mode and move to correct device\n",
    "model.eval()\n",
    "trainer.test(model=model, dataloaders=val_loader)"
   ]
  },
  {
   "cell_type": "code",
   "execution_count": null,
   "id": "c18bedf1",
   "metadata": {},
   "outputs": [],
   "source": [
    "# Show information about the test_loader\n",
    "print(\"Test DataLoader Info:\")\n",
    "print(f\"Batch size: {test_loader.batch_size}\")\n",
    "print(f\"Number of batches: {len(test_loader)}\")\n",
    "print(f\"Shuffle: {test_loader.shuffle if hasattr(test_loader, 'shuffle') else 'N/A'}\")\n",
    "print(f\"Number of workers: {test_loader.num_workers}\")\n",
    "print(f\"Dataset: {test_loader.dataset}\")\n",
    "print(f\"Sampler: {test_loader.sampler}\")\n",
    "print(f\"Drop last: {test_loader.drop_last}\")\n",
    "print(f\"Pin memory: {test_loader.pin_memory}\")\n",
    "print(f\"Persistent workers: {test_loader.persistent_workers if hasattr(test_loader, 'persistent_workers') else 'N/A'}\")\n",
    "print(f\"Prefetch factor: {test_loader.prefetch_factor if hasattr(test_loader, 'prefetch_factor') else 'N/A'}\")\n",
    "print(f\"Timeout: {test_loader.timeout}\")\n",
    "\n",
    "# Show a batch of test images, their shapes, and model predictions\n",
    "\n",
    "images, labels = next(iter(test_loader))\n",
    "print(\"Test batch images shape:\", images.shape)\n",
    "print(\"Test batch labels shape:\", labels.shape)\n",
    "\n",
    "# Move images to the correct device\n",
    "images = images.to(device)\n",
    "model = model.to(device)\n",
    "model.eval()\n",
    "\n",
    "with torch.no_grad():\n",
    "    outputs = model(images)\n",
    "    preds = torch.argmax(outputs, dim=1)\n",
    "\n",
    "print(\"Predicted labels:\", preds.cpu().numpy())\n",
    "print(\"True labels:     \", labels.cpu().numpy())"
   ]
  }
 ],
 "metadata": {
  "kernelspec": {
   "display_name": "VDKI-Projekt",
   "language": "python",
   "name": "python3"
  },
  "language_info": {
   "codemirror_mode": {
    "name": "ipython",
    "version": 3
   },
   "file_extension": ".py",
   "mimetype": "text/x-python",
   "name": "python",
   "nbconvert_exporter": "python",
   "pygments_lexer": "ipython3",
   "version": "3.12.3"
  }
 },
 "nbformat": 4,
 "nbformat_minor": 5
}
