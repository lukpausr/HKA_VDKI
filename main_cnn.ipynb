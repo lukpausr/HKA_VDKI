{
 "cells": [
  {
   "cell_type": "code",
   "execution_count": 1,
   "id": "0f4845e5",
   "metadata": {},
   "outputs": [
    {
     "name": "stderr",
     "output_type": "stream",
     "text": [
      "c:\\Users\\lukas\\anaconda3\\envs\\VDKI-Projekt\\Lib\\site-packages\\tqdm\\auto.py:21: TqdmWarning: IProgress not found. Please update jupyter and ipywidgets. See https://ipywidgets.readthedocs.io/en/stable/user_install.html\n",
      "  from .autonotebook import tqdm as notebook_tqdm\n"
     ]
    }
   ],
   "source": [
    "import os\n",
    "import math\n",
    "import torch\n",
    "import wandb\n",
    "import pytorch_lightning as pl\n",
    "from pytorch_lightning import Trainer\n",
    "from pytorch_lightning.loggers import WandbLogger\n",
    "from pytorch_lightning.callbacks.early_stopping import EarlyStopping\n",
    "from pytorch_lightning.utilities.model_summary import ModelSummary\n",
    "from torchvision.transforms import v2\n",
    "\n",
    "from sklearn.metrics import confusion_matrix, ConfusionMatrixDisplay, roc_curve, auc\n",
    "import matplotlib.pyplot as plt\n",
    "import numpy as np\n",
    "from datetime import datetime\n",
    "from models.model_cnn import KaninchenModel, KaninchenModelResidual, KaninchenModel_v11, KaninchenModel_v12, KaninchenModel_v13, KaninchenModel_v14, KaninchenModel_v15, KaninchenModel_v16, KaninchenModel_v17\n",
    "from data.datamodule import BinaryImageDataModule, ReducedSizeBinaryImageDataModule\n",
    "\n",
    "import optuna\n",
    "from training.hyperparameter_tuning import CnnOptunaTrainer"
   ]
  },
  {
   "cell_type": "markdown",
   "id": "117666f9",
   "metadata": {},
   "source": [
    "### Loading Configuration\n",
    "\n",
    "In the following steps, we will load the configuration settings using the `load_configuration` function. The configuration is stored in the `config` variable which will be used throughout the script."
   ]
  },
  {
   "cell_type": "code",
   "execution_count": 2,
   "id": "74321032",
   "metadata": {},
   "outputs": [
    {
     "name": "stdout",
     "output_type": "stream",
     "text": [
      "PC Name: DESKTOP-LUKAS\n",
      "Loaded configuration from config/config_lukas.yaml\n"
     ]
    }
   ],
   "source": [
    "from config.load_configuration import load_configuration\n",
    "config = load_configuration()"
   ]
  },
  {
   "cell_type": "markdown",
   "id": "2fcae64d",
   "metadata": {},
   "source": [
    "### Logging in to Weights & Biases (wandb)\n",
    "\n",
    "Before starting any experiment tracking, ensure you are logged in to your Weights & Biases (wandb) account. This enables automatic logging of metrics, model checkpoints, and experiment configurations. The following code logs you in to wandb:\n",
    "\n",
    "```python\n",
    "wandb.login()\n",
    "```\n",
    "If you are running this for the first time, you may be prompted to enter your API key."
   ]
  },
  {
   "cell_type": "code",
   "execution_count": 3,
   "id": "5ee8f5d3",
   "metadata": {},
   "outputs": [
    {
     "name": "stderr",
     "output_type": "stream",
     "text": [
      "\u001b[34m\u001b[1mwandb\u001b[0m: Currently logged in as: \u001b[33mlukas-pelz\u001b[0m (\u001b[33mHKA-EKG-Signalverarbeitung\u001b[0m) to \u001b[32mhttps://api.wandb.ai\u001b[0m. Use \u001b[1m`wandb login --relogin`\u001b[0m to force relogin\n"
     ]
    },
    {
     "data": {
      "text/plain": [
       "True"
      ]
     },
     "execution_count": 3,
     "metadata": {},
     "output_type": "execute_result"
    }
   ],
   "source": [
    "# Initialize the Wandb logger\n",
    "wandb.login()"
   ]
  },
  {
   "cell_type": "markdown",
   "id": "414378fc",
   "metadata": {},
   "source": [
    "### Setting Seeds for Reproducibility\n",
    "\n",
    "To ensure comparable and reproducible results, we set the random seed using the `seed_everything` function from PyTorch Lightning. This helps in achieving consistent behavior across multiple runs of the notebook."
   ]
  },
  {
   "cell_type": "code",
   "execution_count": 4,
   "id": "06e10d3f",
   "metadata": {},
   "outputs": [
    {
     "name": "stderr",
     "output_type": "stream",
     "text": [
      "Seed set to 42\n"
     ]
    }
   ],
   "source": [
    "pl.seed_everything(config['seed'])\n",
    "os.environ[\"TF_ENABLE_ONEDNN_OPTS\"] = \"0\"   # disable oneDNN optimizations for reproducibility"
   ]
  },
  {
   "cell_type": "markdown",
   "id": "4c86df64",
   "metadata": {},
   "source": [
    "### Checking for GPU Devices\n",
    "\n",
    "In this step, we check for the availability of GPU devices and print the device currently being used by PyTorch. This ensures that the computations are performed on the most efficient hardware available."
   ]
  },
  {
   "cell_type": "code",
   "execution_count": 5,
   "id": "d9b717a7",
   "metadata": {},
   "outputs": [
    {
     "name": "stdout",
     "output_type": "stream",
     "text": [
      "Torch Version:  2.7.0+cu128\n",
      "Using device:  cuda\n",
      "Cuda Version:  12.8\n",
      "NVIDIA GeForce RTX 5060 Ti\n",
      "Memory Usage:\n",
      "Allocated: 0.0 GB\n",
      "Cached:    0.0 GB\n"
     ]
    }
   ],
   "source": [
    "# Check if CUDA is available and set device\n",
    "device = torch.device('cuda' if torch.cuda.is_available() else 'cpu')\n",
    "\n",
    "print('Torch Version: ', torch.__version__)\n",
    "print('Using device: ', device)\n",
    "if device.type == 'cuda':\n",
    "    print('Cuda Version: ', torch.version.cuda)\n",
    "    print(torch.cuda.get_device_name(0))\n",
    "    print('Memory Usage:')\n",
    "    print('Allocated:', round(torch.cuda.memory_allocated(0)/1024**3,1), 'GB')\n",
    "    print('Cached:   ', round(torch.cuda.memory_reserved(0)/1024**3,1), 'GB')\n",
    "    torch.set_float32_matmul_precision('high')"
   ]
  },
  {
   "cell_type": "markdown",
   "id": "9177b86e",
   "metadata": {},
   "source": [
    "### Defining Transformations and Instantiating DataModule\n",
    "\n",
    "In this step, we will define the necessary data transformations and initialize the `Animal_DataModule` with the provided configuration."
   ]
  },
  {
   "cell_type": "code",
   "execution_count": 6,
   "id": "df954014",
   "metadata": {},
   "outputs": [
    {
     "name": "stderr",
     "output_type": "stream",
     "text": [
      "c:\\Users\\lukas\\anaconda3\\envs\\VDKI-Projekt\\Lib\\site-packages\\torchvision\\transforms\\v2\\_deprecated.py:42: UserWarning: The transform `ToTensor()` is deprecated and will be removed in a future release. Instead, please use `v2.Compose([v2.ToImage(), v2.ToDtype(torch.float32, scale=True)])`.Output is equivalent up to float precision.\n",
      "  warnings.warn(\n"
     ]
    }
   ],
   "source": [
    "# TODO: Define transformations here\n",
    "import os\n",
    "\n",
    "size = config['image_size']\n",
    "\n",
    "import data.custom_transforms as custom_transforms\n",
    "transform = v2.Compose([\n",
    "    custom_transforms.CenterCropSquare(),\n",
    "    v2.Resize((size, size)),\n",
    "    v2.ToTensor(),\n",
    "    # v2.Normalize(mean=[0.485, 0.456, 0.406], std=[0.229, 0.224, 0.225])\n",
    "])\n",
    "\n",
    "dm = ReducedSizeBinaryImageDataModule(data_dir=config['path_to_split_aug_pics'], transform=transform, batch_size=config['batch_size'], num_workers=6) #, persistent_workers=True)\n",
    "# dm = BinaryImageDataModule(data_dir=config['path_to_split_aug_pics'], transform=transform, batch_size=config['batch_size'], num_workers=2, persistent_workers=True)\n",
    "# dm.setup()\n",
    "\n",
    "# train_loader = dm.train_dataloader()\n",
    "# val_loader = dm.val_dataloader()\n",
    "# test_loader = dm.test_dataloader()\n",
    "\n",
    "# # Show a few images from the training set\n",
    "# from torchvision.utils import make_grid\n",
    "# def show_images(loader):\n",
    "#     images, labels = next(iter(loader))\n",
    "#     images = images[:16]  # Show only the first 16 images\n",
    "#     labels = labels[:16]\n",
    "#     grid = make_grid(images, nrow=4, padding=2)\n",
    "#     plt.figure(figsize=(10, 10))\n",
    "#     plt.imshow(grid.permute(1, 2, 0).numpy())\n",
    "#     plt.title('Sample Images')\n",
    "#     plt.axis('off')\n",
    "#     plt.show()\n",
    "# show_images(train_loader)\n",
    "\n",
    "# print('Train dataset size:', len(dm.train_dataset))\n",
    "# print('Validation dataset size:', len(dm.val_dataset))\n",
    "# print('Test dataset size:', len(dm.test_dataset))"
   ]
  },
  {
   "cell_type": "markdown",
   "id": "9c560cb9",
   "metadata": {},
   "source": [
    "### Creating the Model\n",
    "\n",
    "In this step, we will define the model architecture and print its summary using the `ModelSummary` utility from PyTorch Lightning. This provides an overview of the model's layers, parameters, and structure."
   ]
  },
  {
   "cell_type": "code",
   "execution_count": 10,
   "id": "f3442708",
   "metadata": {},
   "outputs": [
    {
     "name": "stdout",
     "output_type": "stream",
     "text": [
      "   | Name           | Type              | Params | Mode \n",
      "--------------------------------------------------------------\n",
      "0  | criterion      | BCEWithLogitsLoss | 0      | train\n",
      "1  | sigmoid        | Sigmoid           | 0      | train\n",
      "2  | model          | Sequential        | 1.1 M  | train\n",
      "3  | model.0        | Conv2d            | 896    | train\n",
      "4  | model.1        | BatchNorm2d       | 64     | train\n",
      "5  | model.2        | ReLU              | 0      | train\n",
      "6  | model.3        | MaxPool2d         | 0      | train\n",
      "7  | model.4        | Conv2d            | 18.5 K | train\n",
      "8  | model.5        | BatchNorm2d       | 128    | train\n",
      "9  | model.6        | ReLU              | 0      | train\n",
      "10 | model.7        | MaxPool2d         | 0      | train\n",
      "11 | model.8        | Conv2d            | 73.9 K | train\n",
      "12 | model.9        | BatchNorm2d       | 256    | train\n",
      "13 | model.10       | ReLU              | 0      | train\n",
      "14 | model.11       | MaxPool2d         | 0      | train\n",
      "15 | model.12       | Flatten           | 0      | train\n",
      "16 | model.13       | Linear            | 1.0 M  | train\n",
      "17 | model.14       | ReLU              | 0      | train\n",
      "18 | model.15       | Dropout           | 0      | train\n",
      "19 | model.16       | Linear            | 513    | train\n",
      "20 | train_accuracy | BinaryAccuracy    | 0      | train\n",
      "21 | val_accuracy   | BinaryAccuracy    | 0      | train\n",
      "22 | val_precision  | BinaryPrecision   | 0      | train\n",
      "23 | val_recall     | BinaryRecall      | 0      | train\n",
      "24 | test_accuracy  | BinaryAccuracy    | 0      | train\n",
      "25 | block1         | Sequential        | 673    | train\n",
      "26 | block1.0       | Conv2d            | 27     | train\n",
      "27 | block1.1       | BatchNorm2d       | 6      | train\n",
      "28 | block1.2       | ReLU              | 0      | train\n",
      "29 | block1.3       | Conv2d            | 384    | train\n",
      "30 | block1.4       | BatchNorm2d       | 256    | train\n",
      "31 | block1.5       | ReLU              | 0      | train\n",
      "32 | block1.6       | Dropout           | 0      | train\n",
      "33 | block2         | Sequential        | 34.7 K | train\n",
      "34 | block2.0       | Conv2d            | 1.2 K  | train\n",
      "35 | block2.1       | BatchNorm2d       | 256    | train\n",
      "36 | block2.2       | ReLU              | 0      | train\n",
      "37 | block2.3       | Conv2d            | 32.8 K | train\n",
      "38 | block2.4       | BatchNorm2d       | 512    | train\n",
      "39 | block2.5       | ReLU              | 0      | train\n",
      "40 | block2.6       | Dropout           | 0      | train\n",
      "41 | block3         | Sequential        | 134 K  | train\n",
      "42 | block3.0       | Conv2d            | 2.3 K  | train\n",
      "43 | block3.1       | BatchNorm2d       | 512    | train\n",
      "44 | block3.2       | ReLU              | 0      | train\n",
      "45 | block3.3       | Conv2d            | 131 K  | train\n",
      "46 | block3.4       | BatchNorm2d       | 1.0 K  | train\n",
      "47 | block3.5       | ReLU              | 0      | train\n",
      "48 | block3.6       | Dropout           | 0      | train\n",
      "49 | block4         | Sequential        | 268 K  | train\n",
      "50 | block4.0       | Conv2d            | 4.6 K  | train\n",
      "51 | block4.1       | BatchNorm2d       | 1.0 K  | train\n",
      "52 | block4.2       | ReLU              | 0      | train\n",
      "53 | block4.3       | Conv2d            | 262 K  | train\n",
      "54 | block4.4       | BatchNorm2d       | 1.0 K  | train\n",
      "55 | block4.5       | ReLU              | 0      | train\n",
      "56 | block4.6       | Dropout           | 0      | train\n",
      "57 | global_pool    | AdaptiveAvgPool2d | 0      | train\n",
      "58 | flatten        | Flatten           | 0      | train\n",
      "59 | fc1            | Linear            | 131 K  | train\n",
      "60 | relu_fc1       | ReLU              | 0      | train\n",
      "61 | fc2            | Linear            | 32.9 K | train\n",
      "62 | relu_fc2       | ReLU              | 0      | train\n",
      "63 | fc3            | Linear            | 8.3 K  | train\n",
      "64 | relu_fc3       | ReLU              | 0      | train\n",
      "65 | fc_out         | Linear            | 65     | train\n",
      "--------------------------------------------------------------\n",
      "1.8 M     Trainable params\n",
      "0         Non-trainable params\n",
      "1.8 M     Total params\n",
      "7.020     Total estimated model params size (MB)\n",
      "66        Modules in train mode\n",
      "0         Modules in eval mode\n",
      "KaninchenModel_v11\n"
     ]
    }
   ],
   "source": [
    "#model = CatsDogsModel()\n",
    "# model = KaninchenModel()\n",
    "model = KaninchenModel_v11()\n",
    "print(ModelSummary(model, max_depth=-1))  \n",
    "print(type(model).__name__)"
   ]
  },
  {
   "cell_type": "markdown",
   "id": "62271018",
   "metadata": {},
   "source": [
    "### Training the Model and Logging with Weights & Biases\n",
    "\n",
    "In this step, we initialize the Wandb logger and configure the experiment name to include a timestamp for better tracking. The `Trainer` from PyTorch Lightning is set up with the Wandb logger and an early stopping callback to monitor validation loss and prevent overfitting. After training, the Wandb run is finished, and the trained model checkpoint is saved with a unique filename containing the current date and time."
   ]
  },
  {
   "cell_type": "code",
   "execution_count": null,
   "id": "474d5b41",
   "metadata": {},
   "outputs": [],
   "source": [
    "# Initialize the Wandb logger\n",
    "# add time to the name of the experiment\n",
    "import datetime\n",
    "now = datetime.datetime.now()\n",
    "current_time = now.strftime(\"%Y-%m-%d_%H-%M-%S\")\n",
    "\n",
    "# Initialize wandb logger\n",
    "wandb_logger = WandbLogger(\n",
    "    project=config['wandb_project_name'],\n",
    "    name=f\"{config['wandb_experiment_name']}_{type(model).__name__}_{current_time}\",\n",
    "    config={\n",
    "        'model': type(model).__name__,\n",
    "        'dataset': 'DwarfRabbits-binary',\n",
    "        'batch_size': config['batch_size'],\n",
    "        'max_epochs': config['max_epochs'],\n",
    "        'learning_rate': config['learning_rate']\n",
    "    }\n",
    ")\n",
    "\n",
    "# Initialize Trainer with wandb logger, using early stopping callback (https://lightning.ai/docs/pytorch/stable/common/early_stopping.html)\n",
    "trainer = Trainer(\n",
    "    max_epochs=config['max_epochs'], \n",
    "    default_root_dir='model/checkpoint/', #data_directory, \n",
    "    accelerator=\"auto\", \n",
    "    devices=\"auto\", \n",
    "    strategy=\"auto\",\n",
    "    callbacks=[EarlyStopping(monitor='val_loss', patience=5, mode='min')], \n",
    "    logger=wandb_logger)\n",
    "\n",
    "# Training of the model\n",
    "trainer.fit(model=model, datamodule=dm)\n",
    "\n",
    "# Finish wandb\n",
    "wandb.finish()\n",
    "\n",
    "# Create a filename with date identifier\n",
    "model_filename = f\"{config['wandb_experiment_name']}_{type(model).__name__}_{current_time}.ckpt\"\n",
    "\n",
    "# Save the model's state_dict to the path specified in config\n",
    "save_path = os.path.join(os.path.dirname(config['path_to_models']), model_filename)\n",
    "trainer.save_checkpoint(save_path)\n",
    "print(f\"Model checkpoint saved as {save_path}\")\n",
    "config['path_to_model'] = save_path"
   ]
  },
  {
   "cell_type": "code",
   "execution_count": 11,
   "id": "cee4a0f2",
   "metadata": {},
   "outputs": [
    {
     "name": "stderr",
     "output_type": "stream",
     "text": [
      "Using default `ModelCheckpoint`. Consider installing `litmodels` package to enable `LitModelCheckpoint` for automatic upload to the Lightning model registry.\n",
      "GPU available: True (cuda), used: True\n",
      "TPU available: False, using: 0 TPU cores\n",
      "HPU available: False, using: 0 HPUs\n"
     ]
    },
    {
     "name": "stdout",
     "output_type": "stream",
     "text": [
      "   | Name           | Type              | Params | Mode \n",
      "--------------------------------------------------------------\n",
      "0  | criterion      | BCEWithLogitsLoss | 0      | train\n",
      "1  | sigmoid        | Sigmoid           | 0      | train\n",
      "2  | model          | Sequential        | 1.1 M  | train\n",
      "3  | model.0        | Conv2d            | 896    | train\n",
      "4  | model.1        | BatchNorm2d       | 64     | train\n",
      "5  | model.2        | ReLU              | 0      | train\n",
      "6  | model.3        | MaxPool2d         | 0      | train\n",
      "7  | model.4        | Conv2d            | 18.5 K | train\n",
      "8  | model.5        | BatchNorm2d       | 128    | train\n",
      "9  | model.6        | ReLU              | 0      | train\n",
      "10 | model.7        | MaxPool2d         | 0      | train\n",
      "11 | model.8        | Conv2d            | 73.9 K | train\n",
      "12 | model.9        | BatchNorm2d       | 256    | train\n",
      "13 | model.10       | ReLU              | 0      | train\n",
      "14 | model.11       | MaxPool2d         | 0      | train\n",
      "15 | model.12       | Flatten           | 0      | train\n",
      "16 | model.13       | Linear            | 1.0 M  | train\n",
      "17 | model.14       | ReLU              | 0      | train\n",
      "18 | model.15       | Dropout           | 0      | train\n",
      "19 | model.16       | Linear            | 513    | train\n",
      "20 | train_accuracy | BinaryAccuracy    | 0      | train\n",
      "21 | val_accuracy   | BinaryAccuracy    | 0      | train\n",
      "22 | val_precision  | BinaryPrecision   | 0      | train\n",
      "23 | val_recall     | BinaryRecall      | 0      | train\n",
      "24 | test_accuracy  | BinaryAccuracy    | 0      | train\n",
      "25 | block1         | Sequential        | 673    | train\n",
      "26 | block1.0       | Conv2d            | 27     | train\n",
      "27 | block1.1       | BatchNorm2d       | 6      | train\n",
      "28 | block1.2       | ReLU              | 0      | train\n",
      "29 | block1.3       | Conv2d            | 384    | train\n",
      "30 | block1.4       | BatchNorm2d       | 256    | train\n",
      "31 | block1.5       | ReLU              | 0      | train\n",
      "32 | block1.6       | Dropout           | 0      | train\n",
      "33 | block2         | Sequential        | 34.7 K | train\n",
      "34 | block2.0       | Conv2d            | 1.2 K  | train\n",
      "35 | block2.1       | BatchNorm2d       | 256    | train\n",
      "36 | block2.2       | ReLU              | 0      | train\n",
      "37 | block2.3       | Conv2d            | 32.8 K | train\n",
      "38 | block2.4       | BatchNorm2d       | 512    | train\n",
      "39 | block2.5       | ReLU              | 0      | train\n",
      "40 | block2.6       | Dropout           | 0      | train\n",
      "41 | block3         | Sequential        | 134 K  | train\n",
      "42 | block3.0       | Conv2d            | 2.3 K  | train\n",
      "43 | block3.1       | BatchNorm2d       | 512    | train\n",
      "44 | block3.2       | ReLU              | 0      | train\n",
      "45 | block3.3       | Conv2d            | 131 K  | train\n",
      "46 | block3.4       | BatchNorm2d       | 1.0 K  | train\n",
      "47 | block3.5       | ReLU              | 0      | train\n",
      "48 | block3.6       | Dropout           | 0      | train\n",
      "49 | block4         | Sequential        | 268 K  | train\n",
      "50 | block4.0       | Conv2d            | 4.6 K  | train\n",
      "51 | block4.1       | BatchNorm2d       | 1.0 K  | train\n",
      "52 | block4.2       | ReLU              | 0      | train\n",
      "53 | block4.3       | Conv2d            | 262 K  | train\n",
      "54 | block4.4       | BatchNorm2d       | 1.0 K  | train\n",
      "55 | block4.5       | ReLU              | 0      | train\n",
      "56 | block4.6       | Dropout           | 0      | train\n",
      "57 | global_pool    | AdaptiveAvgPool2d | 0      | train\n",
      "58 | flatten        | Flatten           | 0      | train\n",
      "59 | fc1            | Linear            | 131 K  | train\n",
      "60 | relu_fc1       | ReLU              | 0      | train\n",
      "61 | fc2            | Linear            | 32.9 K | train\n",
      "62 | relu_fc2       | ReLU              | 0      | train\n",
      "63 | fc3            | Linear            | 8.3 K  | train\n",
      "64 | relu_fc3       | ReLU              | 0      | train\n",
      "65 | fc_out         | Linear            | 65     | train\n",
      "--------------------------------------------------------------\n",
      "1.8 M     Trainable params\n",
      "0         Non-trainable params\n",
      "1.8 M     Total params\n",
      "7.020     Total estimated model params size (MB)\n",
      "66        Modules in train mode\n",
      "0         Modules in eval mode\n",
      "KaninchenModel_v11\n"
     ]
    },
    {
     "data": {
      "text/html": [
       "Tracking run with wandb version 0.19.11"
      ],
      "text/plain": [
       "<IPython.core.display.HTML object>"
      ]
     },
     "metadata": {},
     "output_type": "display_data"
    },
    {
     "data": {
      "text/html": [
       "Run data is saved locally in <code>.\\wandb\\run-20250603_151959-7k8rg0kn</code>"
      ],
      "text/plain": [
       "<IPython.core.display.HTML object>"
      ]
     },
     "metadata": {},
     "output_type": "display_data"
    },
    {
     "data": {
      "text/html": [
       "Syncing run <strong><a href='https://wandb.ai/HKA-EKG-Signalverarbeitung/VDKI-Hasen/runs/7k8rg0kn' target=\"_blank\">binaryClassification_CNN_KaninchenModel_v11_2025-06-03_15-19-59</a></strong> to <a href='https://wandb.ai/HKA-EKG-Signalverarbeitung/VDKI-Hasen' target=\"_blank\">Weights & Biases</a> (<a href='https://wandb.me/developer-guide' target=\"_blank\">docs</a>)<br>"
      ],
      "text/plain": [
       "<IPython.core.display.HTML object>"
      ]
     },
     "metadata": {},
     "output_type": "display_data"
    },
    {
     "data": {
      "text/html": [
       " View project at <a href='https://wandb.ai/HKA-EKG-Signalverarbeitung/VDKI-Hasen' target=\"_blank\">https://wandb.ai/HKA-EKG-Signalverarbeitung/VDKI-Hasen</a>"
      ],
      "text/plain": [
       "<IPython.core.display.HTML object>"
      ]
     },
     "metadata": {},
     "output_type": "display_data"
    },
    {
     "data": {
      "text/html": [
       " View run at <a href='https://wandb.ai/HKA-EKG-Signalverarbeitung/VDKI-Hasen/runs/7k8rg0kn' target=\"_blank\">https://wandb.ai/HKA-EKG-Signalverarbeitung/VDKI-Hasen/runs/7k8rg0kn</a>"
      ],
      "text/plain": [
       "<IPython.core.display.HTML object>"
      ]
     },
     "metadata": {},
     "output_type": "display_data"
    },
    {
     "name": "stderr",
     "output_type": "stream",
     "text": [
      "LOCAL_RANK: 0 - CUDA_VISIBLE_DEVICES: [0]\n",
      "\n",
      "   | Name           | Type              | Params | Mode \n",
      "--------------------------------------------------------------\n",
      "0  | criterion      | BCEWithLogitsLoss | 0      | train\n",
      "1  | sigmoid        | Sigmoid           | 0      | train\n",
      "2  | model          | Sequential        | 1.1 M  | train\n",
      "3  | train_accuracy | BinaryAccuracy    | 0      | train\n",
      "4  | val_accuracy   | BinaryAccuracy    | 0      | train\n",
      "5  | val_precision  | BinaryPrecision   | 0      | train\n",
      "6  | val_recall     | BinaryRecall      | 0      | train\n",
      "7  | test_accuracy  | BinaryAccuracy    | 0      | train\n",
      "8  | block1         | Sequential        | 673    | train\n",
      "9  | block2         | Sequential        | 34.7 K | train\n",
      "10 | block3         | Sequential        | 134 K  | train\n",
      "11 | block4         | Sequential        | 268 K  | train\n",
      "12 | global_pool    | AdaptiveAvgPool2d | 0      | train\n",
      "13 | flatten        | Flatten           | 0      | train\n",
      "14 | fc1            | Linear            | 131 K  | train\n",
      "15 | relu_fc1       | ReLU              | 0      | train\n",
      "16 | fc2            | Linear            | 32.9 K | train\n",
      "17 | relu_fc2       | ReLU              | 0      | train\n",
      "18 | fc3            | Linear            | 8.3 K  | train\n",
      "19 | relu_fc3       | ReLU              | 0      | train\n",
      "20 | fc_out         | Linear            | 65     | train\n",
      "--------------------------------------------------------------\n",
      "1.8 M     Trainable params\n",
      "0         Non-trainable params\n",
      "1.8 M     Total params\n",
      "7.020     Total estimated model params size (MB)\n",
      "66        Modules in train mode\n",
      "0         Modules in eval mode\n"
     ]
    },
    {
     "name": "stdout",
     "output_type": "stream",
     "text": [
      "Sanity Checking: |          | 0/? [00:00<?, ?it/s]"
     ]
    },
    {
     "name": "stderr",
     "output_type": "stream",
     "text": [
      "c:\\Users\\lukas\\anaconda3\\envs\\VDKI-Projekt\\Lib\\site-packages\\pytorch_lightning\\trainer\\connectors\\data_connector.py:420: Consider setting `persistent_workers=True` in 'val_dataloader' to speed up the dataloader worker initialization.\n"
     ]
    },
    {
     "name": "stdout",
     "output_type": "stream",
     "text": [
      "                                                                           "
     ]
    },
    {
     "name": "stderr",
     "output_type": "stream",
     "text": [
      "c:\\Users\\lukas\\anaconda3\\envs\\VDKI-Projekt\\Lib\\site-packages\\torchmetrics\\utilities\\prints.py:43: UserWarning: The ``compute`` method of metric BinaryAccuracy was called before the ``update`` method which may lead to errors, as metric states have not yet been updated.\n",
      "  warnings.warn(*args, **kwargs)\n",
      "c:\\Users\\lukas\\anaconda3\\envs\\VDKI-Projekt\\Lib\\site-packages\\torchmetrics\\utilities\\prints.py:43: UserWarning: The ``compute`` method of metric BinaryPrecision was called before the ``update`` method which may lead to errors, as metric states have not yet been updated.\n",
      "  warnings.warn(*args, **kwargs)\n",
      "c:\\Users\\lukas\\anaconda3\\envs\\VDKI-Projekt\\Lib\\site-packages\\torchmetrics\\utilities\\prints.py:43: UserWarning: The ``compute`` method of metric BinaryRecall was called before the ``update`` method which may lead to errors, as metric states have not yet been updated.\n",
      "  warnings.warn(*args, **kwargs)\n",
      "c:\\Users\\lukas\\anaconda3\\envs\\VDKI-Projekt\\Lib\\site-packages\\pytorch_lightning\\trainer\\connectors\\data_connector.py:420: Consider setting `persistent_workers=True` in 'train_dataloader' to speed up the dataloader worker initialization.\n"
     ]
    },
    {
     "name": "stdout",
     "output_type": "stream",
     "text": [
      "Epoch 9: 100%|██████████| 161/161 [00:27<00:00,  5.87it/s, v_num=g0kn, val_loss=0.647]\n"
     ]
    },
    {
     "data": {
      "text/html": [],
      "text/plain": [
       "<IPython.core.display.HTML object>"
      ]
     },
     "metadata": {},
     "output_type": "display_data"
    },
    {
     "data": {
      "text/html": [
       "<br>    <style><br>        .wandb-row {<br>            display: flex;<br>            flex-direction: row;<br>            flex-wrap: wrap;<br>            justify-content: flex-start;<br>            width: 100%;<br>        }<br>        .wandb-col {<br>            display: flex;<br>            flex-direction: column;<br>            flex-basis: 100%;<br>            flex: 1;<br>            padding: 10px;<br>        }<br>    </style><br><div class=\"wandb-row\"><div class=\"wandb-col\"><h3>Run history:</h3><br/><table class=\"wandb\"><tr><td>Validation Data ROC AUC</td><td>▁█▅▆▆▇▆▆█▆▇</td></tr><tr><td>epoch</td><td>▁▁▁▁▁▂▂▂▂▃▃▃▃▃▃▄▄▄▄▄▅▅▅▅▅▆▆▆▆▆▆▆▆▇▇█████</td></tr><tr><td>train_acc</td><td>▁▃▄▅▅▆▆▇██</td></tr><tr><td>train_loss</td><td>▇▇▇█▆▅▅▇▆▅▅▂▄▂█▃▅▆▄▃▅▅▅▃▁▄▆▂▃▃▃▅</td></tr><tr><td>trainer/global_step</td><td>▁▁▁▂▂▂▂▂▂▂▃▃▃▃▄▄▄▄▄▄▅▅▆▆▆▆▆▆▇▇▇▇▇▇▇█████</td></tr><tr><td>val_acc</td><td>▅▄▇▇▇▇▇█▁▆</td></tr><tr><td>val_loss</td><td>▂▃▁▂▁▅▄▃█▂</td></tr><tr><td>val_precision</td><td>▄▂▅▇▆█▅█▁▅</td></tr><tr><td>val_recall</td><td>▇▅▃▁▄▁▄▃█▄</td></tr></table><br/></div><div class=\"wandb-col\"><h3>Run summary:</h3><br/><table class=\"wandb\"><tr><td>Validation Data ROC AUC</td><td>0.67261</td></tr><tr><td>epoch</td><td>9</td></tr><tr><td>train_acc</td><td>0.77426</td></tr><tr><td>train_loss</td><td>0.50456</td></tr><tr><td>trainer/global_step</td><td>1609</td></tr><tr><td>val_acc</td><td>0.66529</td></tr><tr><td>val_loss</td><td>0.64727</td></tr><tr><td>val_precision</td><td>0.49296</td></tr><tr><td>val_recall</td><td>0.4375</td></tr></table><br/></div></div>"
      ],
      "text/plain": [
       "<IPython.core.display.HTML object>"
      ]
     },
     "metadata": {},
     "output_type": "display_data"
    },
    {
     "data": {
      "text/html": [
       " View run <strong style=\"color:#cdcd00\">binaryClassification_CNN_KaninchenModel_v11_2025-06-03_15-19-59</strong> at: <a href='https://wandb.ai/HKA-EKG-Signalverarbeitung/VDKI-Hasen/runs/7k8rg0kn' target=\"_blank\">https://wandb.ai/HKA-EKG-Signalverarbeitung/VDKI-Hasen/runs/7k8rg0kn</a><br> View project at: <a href='https://wandb.ai/HKA-EKG-Signalverarbeitung/VDKI-Hasen' target=\"_blank\">https://wandb.ai/HKA-EKG-Signalverarbeitung/VDKI-Hasen</a><br>Synced 5 W&B file(s), 33 media file(s), 44 artifact file(s) and 0 other file(s)"
      ],
      "text/plain": [
       "<IPython.core.display.HTML object>"
      ]
     },
     "metadata": {},
     "output_type": "display_data"
    },
    {
     "data": {
      "text/html": [
       "Find logs at: <code>.\\wandb\\run-20250603_151959-7k8rg0kn\\logs</code>"
      ],
      "text/plain": [
       "<IPython.core.display.HTML object>"
      ]
     },
     "metadata": {},
     "output_type": "display_data"
    },
    {
     "name": "stderr",
     "output_type": "stream",
     "text": [
      "Using default `ModelCheckpoint`. Consider installing `litmodels` package to enable `LitModelCheckpoint` for automatic upload to the Lightning model registry.\n",
      "GPU available: True (cuda), used: True\n",
      "TPU available: False, using: 0 TPU cores\n",
      "HPU available: False, using: 0 HPUs\n"
     ]
    },
    {
     "name": "stdout",
     "output_type": "stream",
     "text": [
      "Model checkpoint saved as C:\\Users\\lukas\\SynologyDrive_IMS/SS25_MSYS_KAER-AI-PoseAct/21_Test_Data/Models/CNN\\binaryClassification_CNN_KaninchenModel_v11_2025-06-03_15-19-59.ckpt\n",
      "Completed training for KaninchenModel_v11\n",
      "   | Name                | Type              | Params | Mode \n",
      "-------------------------------------------------------------------\n",
      "0  | criterion           | BCEWithLogitsLoss | 0      | train\n",
      "1  | sigmoid             | Sigmoid           | 0      | train\n",
      "2  | model               | Sequential        | 1.1 M  | train\n",
      "3  | model.0             | Conv2d            | 896    | train\n",
      "4  | model.1             | BatchNorm2d       | 64     | train\n",
      "5  | model.2             | ReLU              | 0      | train\n",
      "6  | model.3             | MaxPool2d         | 0      | train\n",
      "7  | model.4             | Conv2d            | 18.5 K | train\n",
      "8  | model.5             | BatchNorm2d       | 128    | train\n",
      "9  | model.6             | ReLU              | 0      | train\n",
      "10 | model.7             | MaxPool2d         | 0      | train\n",
      "11 | model.8             | Conv2d            | 73.9 K | train\n",
      "12 | model.9             | BatchNorm2d       | 256    | train\n",
      "13 | model.10            | ReLU              | 0      | train\n",
      "14 | model.11            | MaxPool2d         | 0      | train\n",
      "15 | model.12            | Flatten           | 0      | train\n",
      "16 | model.13            | Linear            | 1.0 M  | train\n",
      "17 | model.14            | ReLU              | 0      | train\n",
      "18 | model.15            | Dropout           | 0      | train\n",
      "19 | model.16            | Linear            | 513    | train\n",
      "20 | train_accuracy      | BinaryAccuracy    | 0      | train\n",
      "21 | val_accuracy        | BinaryAccuracy    | 0      | train\n",
      "22 | val_precision       | BinaryPrecision   | 0      | train\n",
      "23 | val_recall          | BinaryRecall      | 0      | train\n",
      "24 | test_accuracy       | BinaryAccuracy    | 0      | train\n",
      "25 | init_conv           | Sequential        | 1.9 K  | train\n",
      "26 | init_conv.0         | Conv2d            | 1.8 K  | train\n",
      "27 | init_conv.1         | BatchNorm2d       | 128    | train\n",
      "28 | init_conv.2         | ReLU              | 0      | train\n",
      "29 | layer1              | Sequential        | 221 K  | train\n",
      "30 | layer1.0            | Conv2d            | 73.9 K | train\n",
      "31 | layer1.1            | BatchNorm2d       | 256    | train\n",
      "32 | layer1.2            | ReLU              | 0      | train\n",
      "33 | layer1.3            | Conv2d            | 147 K  | train\n",
      "34 | layer1.4            | BatchNorm2d       | 256    | train\n",
      "35 | layer1.5            | ReLU              | 0      | train\n",
      "36 | layer1.6            | MaxPool2d         | 0      | train\n",
      "37 | layer2              | Sequential        | 295 K  | train\n",
      "38 | layer2.0            | Conv2d            | 147 K  | train\n",
      "39 | layer2.1            | BatchNorm2d       | 256    | train\n",
      "40 | layer2.2            | ReLU              | 0      | train\n",
      "41 | layer2.3            | Conv2d            | 147 K  | train\n",
      "42 | layer2.4            | BatchNorm2d       | 256    | train\n",
      "43 | layer2.5            | ReLU              | 0      | train\n",
      "44 | layer2.6            | MaxPool2d         | 0      | train\n",
      "45 | layer3              | Sequential        | 886 K  | train\n",
      "46 | layer3.0            | Conv2d            | 295 K  | train\n",
      "47 | layer3.1            | BatchNorm2d       | 512    | train\n",
      "48 | layer3.2            | ReLU              | 0      | train\n",
      "49 | layer3.3            | Conv2d            | 590 K  | train\n",
      "50 | layer3.4            | BatchNorm2d       | 512    | train\n",
      "51 | layer3.5            | ReLU              | 0      | train\n",
      "52 | layer3.6            | MaxPool2d         | 0      | train\n",
      "53 | layer4              | ResidualBlock     | 1.2 M  | train\n",
      "54 | layer4.conv_block   | Sequential        | 1.2 M  | train\n",
      "55 | layer4.conv_block.0 | Conv2d            | 590 K  | train\n",
      "56 | layer4.conv_block.1 | BatchNorm2d       | 512    | train\n",
      "57 | layer4.conv_block.2 | ReLU              | 0      | train\n",
      "58 | layer4.conv_block.3 | Conv2d            | 590 K  | train\n",
      "59 | layer4.conv_block.4 | BatchNorm2d       | 512    | train\n",
      "60 | layer4.skip         | Sequential        | 66.3 K | train\n",
      "61 | layer4.skip.0       | Conv2d            | 65.8 K | train\n",
      "62 | layer4.skip.1       | BatchNorm2d       | 512    | train\n",
      "63 | layer4.relu         | ReLU              | 0      | train\n",
      "64 | pool                | AdaptiveAvgPool2d | 0      | train\n",
      "65 | flatten             | Flatten           | 0      | train\n",
      "66 | fc1                 | Linear            | 32.9 K | train\n",
      "67 | relu_fc1            | ReLU              | 0      | train\n",
      "68 | fc2                 | Linear            | 8.3 K  | train\n",
      "69 | relu_fc2            | ReLU              | 0      | train\n",
      "70 | fc3                 | Linear            | 2.1 K  | train\n",
      "71 | relu_fc3            | ReLU              | 0      | train\n",
      "72 | fc_out              | Linear            | 33     | train\n",
      "-------------------------------------------------------------------\n",
      "3.8 M     Trainable params\n",
      "0         Non-trainable params\n",
      "3.8 M     Total params\n",
      "15.359    Total estimated model params size (MB)\n",
      "73        Modules in train mode\n",
      "0         Modules in eval mode\n",
      "KaninchenModel_v12\n"
     ]
    },
    {
     "data": {
      "text/html": [
       "Tracking run with wandb version 0.19.11"
      ],
      "text/plain": [
       "<IPython.core.display.HTML object>"
      ]
     },
     "metadata": {},
     "output_type": "display_data"
    },
    {
     "data": {
      "text/html": [
       "Run data is saved locally in <code>.\\wandb\\run-20250603_152446-xj3k4x2m</code>"
      ],
      "text/plain": [
       "<IPython.core.display.HTML object>"
      ]
     },
     "metadata": {},
     "output_type": "display_data"
    },
    {
     "data": {
      "text/html": [
       "Syncing run <strong><a href='https://wandb.ai/HKA-EKG-Signalverarbeitung/VDKI-Hasen/runs/xj3k4x2m' target=\"_blank\">binaryClassification_CNN_KaninchenModel_v12_2025-06-03_15-24-46</a></strong> to <a href='https://wandb.ai/HKA-EKG-Signalverarbeitung/VDKI-Hasen' target=\"_blank\">Weights & Biases</a> (<a href='https://wandb.me/developer-guide' target=\"_blank\">docs</a>)<br>"
      ],
      "text/plain": [
       "<IPython.core.display.HTML object>"
      ]
     },
     "metadata": {},
     "output_type": "display_data"
    },
    {
     "data": {
      "text/html": [
       " View project at <a href='https://wandb.ai/HKA-EKG-Signalverarbeitung/VDKI-Hasen' target=\"_blank\">https://wandb.ai/HKA-EKG-Signalverarbeitung/VDKI-Hasen</a>"
      ],
      "text/plain": [
       "<IPython.core.display.HTML object>"
      ]
     },
     "metadata": {},
     "output_type": "display_data"
    },
    {
     "data": {
      "text/html": [
       " View run at <a href='https://wandb.ai/HKA-EKG-Signalverarbeitung/VDKI-Hasen/runs/xj3k4x2m' target=\"_blank\">https://wandb.ai/HKA-EKG-Signalverarbeitung/VDKI-Hasen/runs/xj3k4x2m</a>"
      ],
      "text/plain": [
       "<IPython.core.display.HTML object>"
      ]
     },
     "metadata": {},
     "output_type": "display_data"
    },
    {
     "name": "stderr",
     "output_type": "stream",
     "text": [
      "LOCAL_RANK: 0 - CUDA_VISIBLE_DEVICES: [0]\n",
      "\n",
      "   | Name           | Type              | Params | Mode \n",
      "--------------------------------------------------------------\n",
      "0  | criterion      | BCEWithLogitsLoss | 0      | train\n",
      "1  | sigmoid        | Sigmoid           | 0      | train\n",
      "2  | model          | Sequential        | 1.1 M  | train\n",
      "3  | train_accuracy | BinaryAccuracy    | 0      | train\n",
      "4  | val_accuracy   | BinaryAccuracy    | 0      | train\n",
      "5  | val_precision  | BinaryPrecision   | 0      | train\n",
      "6  | val_recall     | BinaryRecall      | 0      | train\n",
      "7  | test_accuracy  | BinaryAccuracy    | 0      | train\n",
      "8  | init_conv      | Sequential        | 1.9 K  | train\n",
      "9  | layer1         | Sequential        | 221 K  | train\n",
      "10 | layer2         | Sequential        | 295 K  | train\n",
      "11 | layer3         | Sequential        | 886 K  | train\n",
      "12 | layer4         | ResidualBlock     | 1.2 M  | train\n",
      "13 | pool           | AdaptiveAvgPool2d | 0      | train\n",
      "14 | flatten        | Flatten           | 0      | train\n",
      "15 | fc1            | Linear            | 32.9 K | train\n",
      "16 | relu_fc1       | ReLU              | 0      | train\n",
      "17 | fc2            | Linear            | 8.3 K  | train\n",
      "18 | relu_fc2       | ReLU              | 0      | train\n",
      "19 | fc3            | Linear            | 2.1 K  | train\n",
      "20 | relu_fc3       | ReLU              | 0      | train\n",
      "21 | fc_out         | Linear            | 33     | train\n",
      "--------------------------------------------------------------\n",
      "3.8 M     Trainable params\n",
      "0         Non-trainable params\n",
      "3.8 M     Total params\n",
      "15.359    Total estimated model params size (MB)\n",
      "73        Modules in train mode\n",
      "0         Modules in eval mode\n"
     ]
    },
    {
     "name": "stdout",
     "output_type": "stream",
     "text": [
      "Sanity Checking: |          | 0/? [00:00<?, ?it/s]"
     ]
    },
    {
     "name": "stderr",
     "output_type": "stream",
     "text": [
      "c:\\Users\\lukas\\anaconda3\\envs\\VDKI-Projekt\\Lib\\site-packages\\pytorch_lightning\\trainer\\connectors\\data_connector.py:420: Consider setting `persistent_workers=True` in 'val_dataloader' to speed up the dataloader worker initialization.\n"
     ]
    },
    {
     "name": "stdout",
     "output_type": "stream",
     "text": [
      "                                                                           "
     ]
    },
    {
     "name": "stderr",
     "output_type": "stream",
     "text": [
      "c:\\Users\\lukas\\anaconda3\\envs\\VDKI-Projekt\\Lib\\site-packages\\torchmetrics\\utilities\\prints.py:43: UserWarning: The ``compute`` method of metric BinaryAccuracy was called before the ``update`` method which may lead to errors, as metric states have not yet been updated.\n",
      "  warnings.warn(*args, **kwargs)\n",
      "c:\\Users\\lukas\\anaconda3\\envs\\VDKI-Projekt\\Lib\\site-packages\\torchmetrics\\utilities\\prints.py:43: UserWarning: The ``compute`` method of metric BinaryPrecision was called before the ``update`` method which may lead to errors, as metric states have not yet been updated.\n",
      "  warnings.warn(*args, **kwargs)\n",
      "c:\\Users\\lukas\\anaconda3\\envs\\VDKI-Projekt\\Lib\\site-packages\\torchmetrics\\utilities\\prints.py:43: UserWarning: The ``compute`` method of metric BinaryRecall was called before the ``update`` method which may lead to errors, as metric states have not yet been updated.\n",
      "  warnings.warn(*args, **kwargs)\n",
      "c:\\Users\\lukas\\anaconda3\\envs\\VDKI-Projekt\\Lib\\site-packages\\pytorch_lightning\\trainer\\connectors\\data_connector.py:420: Consider setting `persistent_workers=True` in 'train_dataloader' to speed up the dataloader worker initialization.\n"
     ]
    },
    {
     "name": "stdout",
     "output_type": "stream",
     "text": [
      "Epoch 12: 100%|██████████| 161/161 [00:40<00:00,  4.00it/s, v_num=4x2m, val_loss=0.563]\n"
     ]
    },
    {
     "data": {
      "text/html": [],
      "text/plain": [
       "<IPython.core.display.HTML object>"
      ]
     },
     "metadata": {},
     "output_type": "display_data"
    },
    {
     "data": {
      "text/html": [
       "<br>    <style><br>        .wandb-row {<br>            display: flex;<br>            flex-direction: row;<br>            flex-wrap: wrap;<br>            justify-content: flex-start;<br>            width: 100%;<br>        }<br>        .wandb-col {<br>            display: flex;<br>            flex-direction: column;<br>            flex-basis: 100%;<br>            flex: 1;<br>            padding: 10px;<br>        }<br>    </style><br><div class=\"wandb-row\"><div class=\"wandb-col\"><h3>Run history:</h3><br/><table class=\"wandb\"><tr><td>Validation Data ROC AUC</td><td>▁▅▆▆▅▇▇▆█▇▆███</td></tr><tr><td>epoch</td><td>▁▁▁▁▂▂▂▂▂▂▃▃▃▃▃▃▃▃▄▄▄▅▅▅▅▆▆▆▆▆▆▇▇▇▇▇▇▇▇█</td></tr><tr><td>train_acc</td><td>▁▂▃▃▄▄▅▅▆▆▇▇█</td></tr><tr><td>train_loss</td><td>▄█▅▄▄▆▄▄▄▇▇▃▅▂█▄▄▄▄▄▃▁▄▆▆▅▃▄▇▄▇▃▃▂▂▂▅▄▅▁</td></tr><tr><td>trainer/global_step</td><td>▁▁▁▂▂▂▂▂▂▂▃▃▃▃▃▃▃▄▄▄▄▄▄▅▅▅▅▅▆▆▆▆▆▆▇▇▇▇▇█</td></tr><tr><td>val_acc</td><td>▃▅▆▆▅▁▅██▂███</td></tr><tr><td>val_loss</td><td>▅▃▃▄▅█▄▁▅▅▁▂▂</td></tr><tr><td>val_precision</td><td>▁█▃▄▂▁▂▅▆▁▄▃▃</td></tr><tr><td>val_recall</td><td>▅▁▄▂▇█▅▄▃▆▆▆▆</td></tr></table><br/></div><div class=\"wandb-col\"><h3>Run summary:</h3><br/><table class=\"wandb\"><tr><td>Validation Data ROC AUC</td><td>0.78448</td></tr><tr><td>epoch</td><td>12</td></tr><tr><td>train_acc</td><td>0.78571</td></tr><tr><td>train_loss</td><td>0.36234</td></tr><tr><td>trainer/global_step</td><td>2092</td></tr><tr><td>val_acc</td><td>0.71074</td></tr><tr><td>val_loss</td><td>0.56265</td></tr><tr><td>val_precision</td><td>0.57191</td></tr><tr><td>val_recall</td><td>0.67589</td></tr></table><br/></div></div>"
      ],
      "text/plain": [
       "<IPython.core.display.HTML object>"
      ]
     },
     "metadata": {},
     "output_type": "display_data"
    },
    {
     "data": {
      "text/html": [
       " View run <strong style=\"color:#cdcd00\">binaryClassification_CNN_KaninchenModel_v12_2025-06-03_15-24-46</strong> at: <a href='https://wandb.ai/HKA-EKG-Signalverarbeitung/VDKI-Hasen/runs/xj3k4x2m' target=\"_blank\">https://wandb.ai/HKA-EKG-Signalverarbeitung/VDKI-Hasen/runs/xj3k4x2m</a><br> View project at: <a href='https://wandb.ai/HKA-EKG-Signalverarbeitung/VDKI-Hasen' target=\"_blank\">https://wandb.ai/HKA-EKG-Signalverarbeitung/VDKI-Hasen</a><br>Synced 5 W&B file(s), 42 media file(s), 56 artifact file(s) and 0 other file(s)"
      ],
      "text/plain": [
       "<IPython.core.display.HTML object>"
      ]
     },
     "metadata": {},
     "output_type": "display_data"
    },
    {
     "data": {
      "text/html": [
       "Find logs at: <code>.\\wandb\\run-20250603_152446-xj3k4x2m\\logs</code>"
      ],
      "text/plain": [
       "<IPython.core.display.HTML object>"
      ]
     },
     "metadata": {},
     "output_type": "display_data"
    },
    {
     "name": "stderr",
     "output_type": "stream",
     "text": [
      "Using default `ModelCheckpoint`. Consider installing `litmodels` package to enable `LitModelCheckpoint` for automatic upload to the Lightning model registry.\n",
      "GPU available: True (cuda), used: True\n"
     ]
    },
    {
     "name": "stdout",
     "output_type": "stream",
     "text": [
      "Model checkpoint saved as C:\\Users\\lukas\\SynologyDrive_IMS/SS25_MSYS_KAER-AI-PoseAct/21_Test_Data/Models/CNN\\binaryClassification_CNN_KaninchenModel_v12_2025-06-03_15-24-46.ckpt\n",
      "Completed training for KaninchenModel_v12\n",
      "   | Name                | Type              | Params | Mode \n",
      "-------------------------------------------------------------------\n",
      "0  | criterion           | BCEWithLogitsLoss | 0      | train\n",
      "1  | sigmoid             | Sigmoid           | 0      | train\n",
      "2  | model               | Sequential        | 1.1 M  | train\n",
      "3  | model.0             | Conv2d            | 896    | train\n",
      "4  | model.1             | BatchNorm2d       | 64     | train\n",
      "5  | model.2             | ReLU              | 0      | train\n",
      "6  | model.3             | MaxPool2d         | 0      | train\n",
      "7  | model.4             | Conv2d            | 18.5 K | train\n",
      "8  | model.5             | BatchNorm2d       | 128    | train\n",
      "9  | model.6             | ReLU              | 0      | train\n",
      "10 | model.7             | MaxPool2d         | 0      | train\n",
      "11 | model.8             | Conv2d            | 73.9 K | train\n",
      "12 | model.9             | BatchNorm2d       | 256    | train\n",
      "13 | model.10            | ReLU              | 0      | train\n",
      "14 | model.11            | MaxPool2d         | 0      | train\n",
      "15 | model.12            | Flatten           | 0      | train\n",
      "16 | model.13            | Linear            | 1.0 M  | train\n",
      "17 | model.14            | ReLU              | 0      | train\n",
      "18 | model.15            | Dropout           | 0      | train\n",
      "19 | model.16            | Linear            | 513    | train\n",
      "20 | train_accuracy      | BinaryAccuracy    | 0      | train\n",
      "21 | val_accuracy        | BinaryAccuracy    | 0      | train\n",
      "22 | val_precision       | BinaryPrecision   | 0      | train\n",
      "23 | val_recall          | BinaryRecall      | 0      | train\n",
      "24 | test_accuracy       | BinaryAccuracy    | 0      | train\n",
      "25 | init_conv           | Sequential        | 3.8 K  | train\n",
      "26 | init_conv.0         | Conv2d            | 3.6 K  | train\n",
      "27 | init_conv.1         | BatchNorm2d       | 256    | train\n",
      "28 | init_conv.2         | GELU              | 0      | train\n",
      "29 | layer1              | Sequential        | 295 K  | train\n",
      "30 | layer1.0            | Conv2d            | 147 K  | train\n",
      "31 | layer1.1            | BatchNorm2d       | 256    | train\n",
      "32 | layer1.2            | GELU              | 0      | train\n",
      "33 | layer1.3            | Conv2d            | 147 K  | train\n",
      "34 | layer1.4            | BatchNorm2d       | 256    | train\n",
      "35 | layer1.5            | GELU              | 0      | train\n",
      "36 | layer1.6            | MaxPool2d         | 0      | train\n",
      "37 | layer2              | Sequential        | 886 K  | train\n",
      "38 | layer2.0            | Conv2d            | 295 K  | train\n",
      "39 | layer2.1            | BatchNorm2d       | 512    | train\n",
      "40 | layer2.2            | GELU              | 0      | train\n",
      "41 | layer2.3            | Conv2d            | 590 K  | train\n",
      "42 | layer2.4            | BatchNorm2d       | 512    | train\n",
      "43 | layer2.5            | GELU              | 0      | train\n",
      "44 | layer2.6            | MaxPool2d         | 0      | train\n",
      "45 | layer3              | Sequential        | 1.2 M  | train\n",
      "46 | layer3.0            | Conv2d            | 590 K  | train\n",
      "47 | layer3.1            | BatchNorm2d       | 512    | train\n",
      "48 | layer3.2            | GELU              | 0      | train\n",
      "49 | layer3.3            | Conv2d            | 590 K  | train\n",
      "50 | layer3.4            | BatchNorm2d       | 512    | train\n",
      "51 | layer3.5            | GELU              | 0      | train\n",
      "52 | layer3.6            | MaxPool2d         | 0      | train\n",
      "53 | layer4              | Sequential        | 3.5 M  | train\n",
      "54 | layer4.0            | Conv2d            | 1.2 M  | train\n",
      "55 | layer4.1            | BatchNorm2d       | 1.0 K  | train\n",
      "56 | layer4.2            | GELU              | 0      | train\n",
      "57 | layer4.3            | Conv2d            | 2.4 M  | train\n",
      "58 | layer4.4            | BatchNorm2d       | 1.0 K  | train\n",
      "59 | layer4.5            | GELU              | 0      | train\n",
      "60 | layer4.6            | MaxPool2d         | 0      | train\n",
      "61 | layer5              | ResidualBlock     | 5.0 M  | train\n",
      "62 | layer5.conv_block   | Sequential        | 4.7 M  | train\n",
      "63 | layer5.conv_block.0 | Conv2d            | 2.4 M  | train\n",
      "64 | layer5.conv_block.1 | BatchNorm2d       | 1.0 K  | train\n",
      "65 | layer5.conv_block.2 | ReLU              | 0      | train\n",
      "66 | layer5.conv_block.3 | Conv2d            | 2.4 M  | train\n",
      "67 | layer5.conv_block.4 | BatchNorm2d       | 1.0 K  | train\n",
      "68 | layer5.skip         | Sequential        | 263 K  | train\n",
      "69 | layer5.skip.0       | Conv2d            | 262 K  | train\n",
      "70 | layer5.skip.1       | BatchNorm2d       | 1.0 K  | train\n",
      "71 | layer5.relu         | ReLU              | 0      | train\n",
      "72 | pool                | AdaptiveAvgPool2d | 0      | train\n",
      "73 | flatten             | Flatten           | 0      | train\n",
      "74 | fc1                 | Linear            | 131 K  | train\n",
      "75 | relu_fc1            | GELU              | 0      | train\n",
      "76 | fc2                 | Linear            | 32.9 K | train\n",
      "77 | relu_fc2            | GELU              | 0      | train\n",
      "78 | fc3                 | Linear            | 8.3 K  | train\n",
      "79 | relu_fc3            | GELU              | 0      | train\n",
      "80 | fc_out              | Linear            | 65     | train\n",
      "-------------------------------------------------------------------\n",
      "12.2 M    Trainable params\n",
      "0         Non-trainable params\n",
      "12.2 M    Total params\n",
      "48.841    Total estimated model params size (MB)\n",
      "81        Modules in train mode\n",
      "0         Modules in eval mode\n",
      "KaninchenModel_v13\n"
     ]
    },
    {
     "name": "stderr",
     "output_type": "stream",
     "text": [
      "TPU available: False, using: 0 TPU cores\n",
      "HPU available: False, using: 0 HPUs\n"
     ]
    },
    {
     "data": {
      "text/html": [
       "Tracking run with wandb version 0.19.11"
      ],
      "text/plain": [
       "<IPython.core.display.HTML object>"
      ]
     },
     "metadata": {},
     "output_type": "display_data"
    },
    {
     "data": {
      "text/html": [
       "Run data is saved locally in <code>.\\wandb\\run-20250603_153351-3cipqxpt</code>"
      ],
      "text/plain": [
       "<IPython.core.display.HTML object>"
      ]
     },
     "metadata": {},
     "output_type": "display_data"
    },
    {
     "data": {
      "text/html": [
       "Syncing run <strong><a href='https://wandb.ai/HKA-EKG-Signalverarbeitung/VDKI-Hasen/runs/3cipqxpt' target=\"_blank\">binaryClassification_CNN_KaninchenModel_v13_2025-06-03_15-33-51</a></strong> to <a href='https://wandb.ai/HKA-EKG-Signalverarbeitung/VDKI-Hasen' target=\"_blank\">Weights & Biases</a> (<a href='https://wandb.me/developer-guide' target=\"_blank\">docs</a>)<br>"
      ],
      "text/plain": [
       "<IPython.core.display.HTML object>"
      ]
     },
     "metadata": {},
     "output_type": "display_data"
    },
    {
     "data": {
      "text/html": [
       " View project at <a href='https://wandb.ai/HKA-EKG-Signalverarbeitung/VDKI-Hasen' target=\"_blank\">https://wandb.ai/HKA-EKG-Signalverarbeitung/VDKI-Hasen</a>"
      ],
      "text/plain": [
       "<IPython.core.display.HTML object>"
      ]
     },
     "metadata": {},
     "output_type": "display_data"
    },
    {
     "data": {
      "text/html": [
       " View run at <a href='https://wandb.ai/HKA-EKG-Signalverarbeitung/VDKI-Hasen/runs/3cipqxpt' target=\"_blank\">https://wandb.ai/HKA-EKG-Signalverarbeitung/VDKI-Hasen/runs/3cipqxpt</a>"
      ],
      "text/plain": [
       "<IPython.core.display.HTML object>"
      ]
     },
     "metadata": {},
     "output_type": "display_data"
    },
    {
     "name": "stderr",
     "output_type": "stream",
     "text": [
      "LOCAL_RANK: 0 - CUDA_VISIBLE_DEVICES: [0]\n",
      "\n",
      "   | Name           | Type              | Params | Mode \n",
      "--------------------------------------------------------------\n",
      "0  | criterion      | BCEWithLogitsLoss | 0      | train\n",
      "1  | sigmoid        | Sigmoid           | 0      | train\n",
      "2  | model          | Sequential        | 1.1 M  | train\n",
      "3  | train_accuracy | BinaryAccuracy    | 0      | train\n",
      "4  | val_accuracy   | BinaryAccuracy    | 0      | train\n",
      "5  | val_precision  | BinaryPrecision   | 0      | train\n",
      "6  | val_recall     | BinaryRecall      | 0      | train\n",
      "7  | test_accuracy  | BinaryAccuracy    | 0      | train\n",
      "8  | init_conv      | Sequential        | 3.8 K  | train\n",
      "9  | layer1         | Sequential        | 295 K  | train\n",
      "10 | layer2         | Sequential        | 886 K  | train\n",
      "11 | layer3         | Sequential        | 1.2 M  | train\n",
      "12 | layer4         | Sequential        | 3.5 M  | train\n",
      "13 | layer5         | ResidualBlock     | 5.0 M  | train\n",
      "14 | pool           | AdaptiveAvgPool2d | 0      | train\n",
      "15 | flatten        | Flatten           | 0      | train\n",
      "16 | fc1            | Linear            | 131 K  | train\n",
      "17 | relu_fc1       | GELU              | 0      | train\n",
      "18 | fc2            | Linear            | 32.9 K | train\n",
      "19 | relu_fc2       | GELU              | 0      | train\n",
      "20 | fc3            | Linear            | 8.3 K  | train\n",
      "21 | relu_fc3       | GELU              | 0      | train\n",
      "22 | fc_out         | Linear            | 65     | train\n",
      "--------------------------------------------------------------\n",
      "12.2 M    Trainable params\n",
      "0         Non-trainable params\n",
      "12.2 M    Total params\n",
      "48.841    Total estimated model params size (MB)\n",
      "81        Modules in train mode\n",
      "0         Modules in eval mode\n"
     ]
    },
    {
     "name": "stdout",
     "output_type": "stream",
     "text": [
      "Sanity Checking: |          | 0/? [00:00<?, ?it/s]"
     ]
    },
    {
     "name": "stderr",
     "output_type": "stream",
     "text": [
      "c:\\Users\\lukas\\anaconda3\\envs\\VDKI-Projekt\\Lib\\site-packages\\pytorch_lightning\\trainer\\connectors\\data_connector.py:420: Consider setting `persistent_workers=True` in 'val_dataloader' to speed up the dataloader worker initialization.\n"
     ]
    },
    {
     "name": "stdout",
     "output_type": "stream",
     "text": [
      "                                                                           "
     ]
    },
    {
     "name": "stderr",
     "output_type": "stream",
     "text": [
      "c:\\Users\\lukas\\anaconda3\\envs\\VDKI-Projekt\\Lib\\site-packages\\torchmetrics\\utilities\\prints.py:43: UserWarning: The ``compute`` method of metric BinaryAccuracy was called before the ``update`` method which may lead to errors, as metric states have not yet been updated.\n",
      "  warnings.warn(*args, **kwargs)\n",
      "c:\\Users\\lukas\\anaconda3\\envs\\VDKI-Projekt\\Lib\\site-packages\\torchmetrics\\utilities\\prints.py:43: UserWarning: The ``compute`` method of metric BinaryPrecision was called before the ``update`` method which may lead to errors, as metric states have not yet been updated.\n",
      "  warnings.warn(*args, **kwargs)\n",
      "c:\\Users\\lukas\\anaconda3\\envs\\VDKI-Projekt\\Lib\\site-packages\\torchmetrics\\utilities\\prints.py:43: UserWarning: The ``compute`` method of metric BinaryRecall was called before the ``update`` method which may lead to errors, as metric states have not yet been updated.\n",
      "  warnings.warn(*args, **kwargs)\n",
      "c:\\Users\\lukas\\anaconda3\\envs\\VDKI-Projekt\\Lib\\site-packages\\pytorch_lightning\\trainer\\connectors\\data_connector.py:420: Consider setting `persistent_workers=True` in 'train_dataloader' to speed up the dataloader worker initialization.\n"
     ]
    },
    {
     "name": "stdout",
     "output_type": "stream",
     "text": [
      "Epoch 5: 100%|██████████| 161/161 [00:49<00:00,  3.24it/s, v_num=qxpt, val_loss=0.618]\n"
     ]
    },
    {
     "data": {
      "text/html": [],
      "text/plain": [
       "<IPython.core.display.HTML object>"
      ]
     },
     "metadata": {},
     "output_type": "display_data"
    },
    {
     "data": {
      "text/html": [
       "<br>    <style><br>        .wandb-row {<br>            display: flex;<br>            flex-direction: row;<br>            flex-wrap: wrap;<br>            justify-content: flex-start;<br>            width: 100%;<br>        }<br>        .wandb-col {<br>            display: flex;<br>            flex-direction: column;<br>            flex-basis: 100%;<br>            flex: 1;<br>            padding: 10px;<br>        }<br>    </style><br><div class=\"wandb-row\"><div class=\"wandb-col\"><h3>Run history:</h3><br/><table class=\"wandb\"><tr><td>Validation Data ROC AUC</td><td>▁▇▅▅███</td></tr><tr><td>epoch</td><td>▁▁▁▁▁▂▂▂▂▂▄▄▄▄▄▅▅▅▅▅▇▇▇▇▇▇█████</td></tr><tr><td>train_acc</td><td>▁▅▆▆██</td></tr><tr><td>train_loss</td><td>▄▆▆▁▄▄▃▄▄▅▆█▃▁▅▂▃▅▇</td></tr><tr><td>trainer/global_step</td><td>▁▁▂▂▂▂▂▂▃▃▃▃▃▄▄▄▄▄▄▅▅▅▅▆▆▆▆▆▇▇▇▇▇█████</td></tr><tr><td>val_acc</td><td>▆█▁▅▇▇</td></tr><tr><td>val_loss</td><td>▁█▆▂▅▄</td></tr><tr><td>val_precision</td><td>▄█▁▄▄▄</td></tr><tr><td>val_recall</td><td>▆▁▂██▇</td></tr></table><br/></div><div class=\"wandb-col\"><h3>Run summary:</h3><br/><table class=\"wandb\"><tr><td>Validation Data ROC AUC</td><td>0.73862</td></tr><tr><td>epoch</td><td>5</td></tr><tr><td>train_acc</td><td>0.72748</td></tr><tr><td>train_loss</td><td>0.66998</td></tr><tr><td>trainer/global_step</td><td>965</td></tr><tr><td>val_acc</td><td>0.67975</td></tr><tr><td>val_loss</td><td>0.61808</td></tr><tr><td>val_precision</td><td>0.51331</td></tr><tr><td>val_recall</td><td>0.71843</td></tr></table><br/></div></div>"
      ],
      "text/plain": [
       "<IPython.core.display.HTML object>"
      ]
     },
     "metadata": {},
     "output_type": "display_data"
    },
    {
     "data": {
      "text/html": [
       " View run <strong style=\"color:#cdcd00\">binaryClassification_CNN_KaninchenModel_v13_2025-06-03_15-33-51</strong> at: <a href='https://wandb.ai/HKA-EKG-Signalverarbeitung/VDKI-Hasen/runs/3cipqxpt' target=\"_blank\">https://wandb.ai/HKA-EKG-Signalverarbeitung/VDKI-Hasen/runs/3cipqxpt</a><br> View project at: <a href='https://wandb.ai/HKA-EKG-Signalverarbeitung/VDKI-Hasen' target=\"_blank\">https://wandb.ai/HKA-EKG-Signalverarbeitung/VDKI-Hasen</a><br>Synced 5 W&B file(s), 21 media file(s), 28 artifact file(s) and 0 other file(s)"
      ],
      "text/plain": [
       "<IPython.core.display.HTML object>"
      ]
     },
     "metadata": {},
     "output_type": "display_data"
    },
    {
     "data": {
      "text/html": [
       "Find logs at: <code>.\\wandb\\run-20250603_153351-3cipqxpt\\logs</code>"
      ],
      "text/plain": [
       "<IPython.core.display.HTML object>"
      ]
     },
     "metadata": {},
     "output_type": "display_data"
    },
    {
     "name": "stderr",
     "output_type": "stream",
     "text": [
      "Using default `ModelCheckpoint`. Consider installing `litmodels` package to enable `LitModelCheckpoint` for automatic upload to the Lightning model registry.\n",
      "GPU available: True (cuda), used: True\n",
      "TPU available: False, using: 0 TPU cores\n",
      "HPU available: False, using: 0 HPUs\n"
     ]
    },
    {
     "name": "stdout",
     "output_type": "stream",
     "text": [
      "Model checkpoint saved as C:\\Users\\lukas\\SynologyDrive_IMS/SS25_MSYS_KAER-AI-PoseAct/21_Test_Data/Models/CNN\\binaryClassification_CNN_KaninchenModel_v13_2025-06-03_15-33-51.ckpt\n",
      "Completed training for KaninchenModel_v13\n",
      "   | Name           | Type              | Params | Mode \n",
      "--------------------------------------------------------------\n",
      "0  | criterion      | BCEWithLogitsLoss | 0      | train\n",
      "1  | sigmoid        | Sigmoid           | 0      | train\n",
      "2  | model          | Sequential        | 1.1 M  | train\n",
      "3  | model.0        | Conv2d            | 896    | train\n",
      "4  | model.1        | BatchNorm2d       | 64     | train\n",
      "5  | model.2        | ReLU              | 0      | train\n",
      "6  | model.3        | MaxPool2d         | 0      | train\n",
      "7  | model.4        | Conv2d            | 18.5 K | train\n",
      "8  | model.5        | BatchNorm2d       | 128    | train\n",
      "9  | model.6        | ReLU              | 0      | train\n",
      "10 | model.7        | MaxPool2d         | 0      | train\n",
      "11 | model.8        | Conv2d            | 73.9 K | train\n",
      "12 | model.9        | BatchNorm2d       | 256    | train\n",
      "13 | model.10       | ReLU              | 0      | train\n",
      "14 | model.11       | MaxPool2d         | 0      | train\n",
      "15 | model.12       | Flatten           | 0      | train\n",
      "16 | model.13       | Linear            | 1.0 M  | train\n",
      "17 | model.14       | ReLU              | 0      | train\n",
      "18 | model.15       | Dropout           | 0      | train\n",
      "19 | model.16       | Linear            | 513    | train\n",
      "20 | train_accuracy | BinaryAccuracy    | 0      | train\n",
      "21 | val_accuracy   | BinaryAccuracy    | 0      | train\n",
      "22 | val_precision  | BinaryPrecision   | 0      | train\n",
      "23 | val_recall     | BinaryRecall      | 0      | train\n",
      "24 | test_accuracy  | BinaryAccuracy    | 0      | train\n",
      "25 | init_conv      | Sequential        | 3.8 K  | train\n",
      "26 | init_conv.0    | Conv2d            | 3.6 K  | train\n",
      "27 | init_conv.1    | BatchNorm2d       | 256    | train\n",
      "28 | init_conv.2    | ReLU              | 0      | train\n",
      "29 | layer1         | Sequential        | 295 K  | train\n",
      "30 | layer1.0       | Conv2d            | 147 K  | train\n",
      "31 | layer1.1       | BatchNorm2d       | 256    | train\n",
      "32 | layer1.2       | ReLU              | 0      | train\n",
      "33 | layer1.3       | Conv2d            | 147 K  | train\n",
      "34 | layer1.4       | BatchNorm2d       | 256    | train\n",
      "35 | layer1.5       | ReLU              | 0      | train\n",
      "36 | layer1.6       | MaxPool2d         | 0      | train\n",
      "37 | layer2         | Sequential        | 886 K  | train\n",
      "38 | layer2.0       | Conv2d            | 295 K  | train\n",
      "39 | layer2.1       | BatchNorm2d       | 512    | train\n",
      "40 | layer2.2       | ReLU              | 0      | train\n",
      "41 | layer2.3       | Conv2d            | 590 K  | train\n",
      "42 | layer2.4       | BatchNorm2d       | 512    | train\n",
      "43 | layer2.5       | ReLU              | 0      | train\n",
      "44 | layer2.6       | MaxPool2d         | 0      | train\n",
      "45 | layer3         | Sequential        | 1.2 M  | train\n",
      "46 | layer3.0       | Conv2d            | 590 K  | train\n",
      "47 | layer3.1       | BatchNorm2d       | 512    | train\n",
      "48 | layer3.2       | ReLU              | 0      | train\n",
      "49 | layer3.3       | Conv2d            | 590 K  | train\n",
      "50 | layer3.4       | BatchNorm2d       | 512    | train\n",
      "51 | layer3.5       | ReLU              | 0      | train\n",
      "52 | layer3.6       | MaxPool2d         | 0      | train\n",
      "53 | layer4         | Sequential        | 3.5 M  | train\n",
      "54 | layer4.0       | Conv2d            | 1.2 M  | train\n",
      "55 | layer4.1       | BatchNorm2d       | 1.0 K  | train\n",
      "56 | layer4.2       | ReLU              | 0      | train\n",
      "57 | layer4.3       | Conv2d            | 2.4 M  | train\n",
      "58 | layer4.4       | BatchNorm2d       | 1.0 K  | train\n",
      "59 | layer4.5       | ReLU              | 0      | train\n",
      "60 | layer4.6       | MaxPool2d         | 0      | train\n",
      "61 | layer5         | Sequential        | 4.7 M  | train\n",
      "62 | layer5.0       | Conv2d            | 2.4 M  | train\n",
      "63 | layer5.1       | BatchNorm2d       | 1.0 K  | train\n",
      "64 | layer5.2       | ReLU              | 0      | train\n",
      "65 | layer5.3       | Conv2d            | 2.4 M  | train\n",
      "66 | layer5.4       | BatchNorm2d       | 1.0 K  | train\n",
      "67 | layer5.5       | ReLU              | 0      | train\n",
      "68 | layer5.6       | MaxPool2d         | 0      | train\n",
      "69 | pool           | AdaptiveAvgPool2d | 0      | train\n",
      "70 | flatten        | Flatten           | 0      | train\n",
      "71 | fc1            | Linear            | 131 K  | train\n",
      "72 | relu_fc1       | ReLU              | 0      | train\n",
      "73 | fc2            | Linear            | 32.9 K | train\n",
      "74 | relu_fc2       | ReLU              | 0      | train\n",
      "75 | fc3            | Linear            | 8.3 K  | train\n",
      "76 | relu_fc3       | ReLU              | 0      | train\n",
      "77 | fc_out         | Linear            | 65     | train\n",
      "--------------------------------------------------------------\n",
      "11.9 M    Trainable params\n",
      "0         Non-trainable params\n",
      "11.9 M    Total params\n",
      "47.786    Total estimated model params size (MB)\n",
      "78        Modules in train mode\n",
      "0         Modules in eval mode\n",
      "KaninchenModel_v14\n"
     ]
    },
    {
     "data": {
      "text/html": [
       "Tracking run with wandb version 0.19.11"
      ],
      "text/plain": [
       "<IPython.core.display.HTML object>"
      ]
     },
     "metadata": {},
     "output_type": "display_data"
    },
    {
     "data": {
      "text/html": [
       "Run data is saved locally in <code>.\\wandb\\run-20250603_153858-zzh1ok30</code>"
      ],
      "text/plain": [
       "<IPython.core.display.HTML object>"
      ]
     },
     "metadata": {},
     "output_type": "display_data"
    },
    {
     "data": {
      "text/html": [
       "Syncing run <strong><a href='https://wandb.ai/HKA-EKG-Signalverarbeitung/VDKI-Hasen/runs/zzh1ok30' target=\"_blank\">binaryClassification_CNN_KaninchenModel_v14_2025-06-03_15-38-58</a></strong> to <a href='https://wandb.ai/HKA-EKG-Signalverarbeitung/VDKI-Hasen' target=\"_blank\">Weights & Biases</a> (<a href='https://wandb.me/developer-guide' target=\"_blank\">docs</a>)<br>"
      ],
      "text/plain": [
       "<IPython.core.display.HTML object>"
      ]
     },
     "metadata": {},
     "output_type": "display_data"
    },
    {
     "data": {
      "text/html": [
       " View project at <a href='https://wandb.ai/HKA-EKG-Signalverarbeitung/VDKI-Hasen' target=\"_blank\">https://wandb.ai/HKA-EKG-Signalverarbeitung/VDKI-Hasen</a>"
      ],
      "text/plain": [
       "<IPython.core.display.HTML object>"
      ]
     },
     "metadata": {},
     "output_type": "display_data"
    },
    {
     "data": {
      "text/html": [
       " View run at <a href='https://wandb.ai/HKA-EKG-Signalverarbeitung/VDKI-Hasen/runs/zzh1ok30' target=\"_blank\">https://wandb.ai/HKA-EKG-Signalverarbeitung/VDKI-Hasen/runs/zzh1ok30</a>"
      ],
      "text/plain": [
       "<IPython.core.display.HTML object>"
      ]
     },
     "metadata": {},
     "output_type": "display_data"
    },
    {
     "name": "stderr",
     "output_type": "stream",
     "text": [
      "LOCAL_RANK: 0 - CUDA_VISIBLE_DEVICES: [0]\n",
      "\n",
      "   | Name           | Type              | Params | Mode \n",
      "--------------------------------------------------------------\n",
      "0  | criterion      | BCEWithLogitsLoss | 0      | train\n",
      "1  | sigmoid        | Sigmoid           | 0      | train\n",
      "2  | model          | Sequential        | 1.1 M  | train\n",
      "3  | train_accuracy | BinaryAccuracy    | 0      | train\n",
      "4  | val_accuracy   | BinaryAccuracy    | 0      | train\n",
      "5  | val_precision  | BinaryPrecision   | 0      | train\n",
      "6  | val_recall     | BinaryRecall      | 0      | train\n",
      "7  | test_accuracy  | BinaryAccuracy    | 0      | train\n",
      "8  | init_conv      | Sequential        | 3.8 K  | train\n",
      "9  | layer1         | Sequential        | 295 K  | train\n",
      "10 | layer2         | Sequential        | 886 K  | train\n",
      "11 | layer3         | Sequential        | 1.2 M  | train\n",
      "12 | layer4         | Sequential        | 3.5 M  | train\n",
      "13 | layer5         | Sequential        | 4.7 M  | train\n",
      "14 | pool           | AdaptiveAvgPool2d | 0      | train\n",
      "15 | flatten        | Flatten           | 0      | train\n",
      "16 | fc1            | Linear            | 131 K  | train\n",
      "17 | relu_fc1       | ReLU              | 0      | train\n",
      "18 | fc2            | Linear            | 32.9 K | train\n",
      "19 | relu_fc2       | ReLU              | 0      | train\n",
      "20 | fc3            | Linear            | 8.3 K  | train\n",
      "21 | relu_fc3       | ReLU              | 0      | train\n",
      "22 | fc_out         | Linear            | 65     | train\n",
      "--------------------------------------------------------------\n",
      "11.9 M    Trainable params\n",
      "0         Non-trainable params\n",
      "11.9 M    Total params\n",
      "47.786    Total estimated model params size (MB)\n",
      "78        Modules in train mode\n",
      "0         Modules in eval mode\n"
     ]
    },
    {
     "name": "stdout",
     "output_type": "stream",
     "text": [
      "Sanity Checking: |          | 0/? [00:00<?, ?it/s]"
     ]
    },
    {
     "name": "stderr",
     "output_type": "stream",
     "text": [
      "c:\\Users\\lukas\\anaconda3\\envs\\VDKI-Projekt\\Lib\\site-packages\\pytorch_lightning\\trainer\\connectors\\data_connector.py:420: Consider setting `persistent_workers=True` in 'val_dataloader' to speed up the dataloader worker initialization.\n"
     ]
    },
    {
     "name": "stdout",
     "output_type": "stream",
     "text": [
      "                                                                           "
     ]
    },
    {
     "name": "stderr",
     "output_type": "stream",
     "text": [
      "c:\\Users\\lukas\\anaconda3\\envs\\VDKI-Projekt\\Lib\\site-packages\\torchmetrics\\utilities\\prints.py:43: UserWarning: The ``compute`` method of metric BinaryAccuracy was called before the ``update`` method which may lead to errors, as metric states have not yet been updated.\n",
      "  warnings.warn(*args, **kwargs)\n",
      "c:\\Users\\lukas\\anaconda3\\envs\\VDKI-Projekt\\Lib\\site-packages\\torchmetrics\\utilities\\prints.py:43: UserWarning: The ``compute`` method of metric BinaryPrecision was called before the ``update`` method which may lead to errors, as metric states have not yet been updated.\n",
      "  warnings.warn(*args, **kwargs)\n",
      "c:\\Users\\lukas\\anaconda3\\envs\\VDKI-Projekt\\Lib\\site-packages\\torchmetrics\\utilities\\prints.py:43: UserWarning: The ``compute`` method of metric BinaryRecall was called before the ``update`` method which may lead to errors, as metric states have not yet been updated.\n",
      "  warnings.warn(*args, **kwargs)\n",
      "c:\\Users\\lukas\\anaconda3\\envs\\VDKI-Projekt\\Lib\\site-packages\\pytorch_lightning\\trainer\\connectors\\data_connector.py:420: Consider setting `persistent_workers=True` in 'train_dataloader' to speed up the dataloader worker initialization.\n"
     ]
    },
    {
     "name": "stdout",
     "output_type": "stream",
     "text": [
      "Epoch 16: 100%|██████████| 161/161 [00:49<00:00,  3.26it/s, v_num=ok30, val_loss=0.581]\n"
     ]
    },
    {
     "data": {
      "text/html": [],
      "text/plain": [
       "<IPython.core.display.HTML object>"
      ]
     },
     "metadata": {},
     "output_type": "display_data"
    },
    {
     "data": {
      "text/html": [
       "<br>    <style><br>        .wandb-row {<br>            display: flex;<br>            flex-direction: row;<br>            flex-wrap: wrap;<br>            justify-content: flex-start;<br>            width: 100%;<br>        }<br>        .wandb-col {<br>            display: flex;<br>            flex-direction: column;<br>            flex-basis: 100%;<br>            flex: 1;<br>            padding: 10px;<br>        }<br>    </style><br><div class=\"wandb-row\"><div class=\"wandb-col\"><h3>Run history:</h3><br/><table class=\"wandb\"><tr><td>Validation Data ROC AUC</td><td>▁▄▆▇▇▇▇▆█▇████████</td></tr><tr><td>epoch</td><td>▁▁▁▁▂▂▂▂▂▃▃▃▃▄▄▄▄▄▄▅▅▅▅▅▅▅▆▆▆▆▇▇▇▇▇▇████</td></tr><tr><td>train_acc</td><td>▁▂▄▄▄▅▅▅▅▆▇▇▇▇█▇█</td></tr><tr><td>train_loss</td><td>▆▅▇▅▆▆▄▅█▅▆▄▅▄▅▆▃▅▄▄▄▆▄▅▄▄▅▂▅▂▃▂▂▄▅█▄▁▂▅</td></tr><tr><td>trainer/global_step</td><td>▁▁▁▁▁▂▂▂▂▂▃▃▃▃▃▃▄▄▄▄▄▄▅▅▅▆▆▆▆▆▆▆▇▇▇▇████</td></tr><tr><td>val_acc</td><td>▅▅▄▆▆▇▇▁▅▇██▇█▇██</td></tr><tr><td>val_loss</td><td>▅▇▂▃▂▂▄█▄▂▁▁▂▁▂▁▂</td></tr><tr><td>val_precision</td><td>▂▃▃▄▄▅█▁▃▄▆▆▅▅▅▆▆</td></tr><tr><td>val_recall</td><td>▁▃▇▅▅▄▁█▆▅▅▅▆▆▆▆▅</td></tr></table><br/></div><div class=\"wandb-col\"><h3>Run summary:</h3><br/><table class=\"wandb\"><tr><td>Validation Data ROC AUC</td><td>0.75435</td></tr><tr><td>epoch</td><td>16</td></tr><tr><td>train_acc</td><td>0.78824</td></tr><tr><td>train_loss</td><td>0.57962</td></tr><tr><td>trainer/global_step</td><td>2736</td></tr><tr><td>val_acc</td><td>0.69904</td></tr><tr><td>val_loss</td><td>0.58099</td></tr><tr><td>val_precision</td><td>0.55361</td></tr><tr><td>val_recall</td><td>0.57724</td></tr></table><br/></div></div>"
      ],
      "text/plain": [
       "<IPython.core.display.HTML object>"
      ]
     },
     "metadata": {},
     "output_type": "display_data"
    },
    {
     "data": {
      "text/html": [
       " View run <strong style=\"color:#cdcd00\">binaryClassification_CNN_KaninchenModel_v14_2025-06-03_15-38-58</strong> at: <a href='https://wandb.ai/HKA-EKG-Signalverarbeitung/VDKI-Hasen/runs/zzh1ok30' target=\"_blank\">https://wandb.ai/HKA-EKG-Signalverarbeitung/VDKI-Hasen/runs/zzh1ok30</a><br> View project at: <a href='https://wandb.ai/HKA-EKG-Signalverarbeitung/VDKI-Hasen' target=\"_blank\">https://wandb.ai/HKA-EKG-Signalverarbeitung/VDKI-Hasen</a><br>Synced 5 W&B file(s), 54 media file(s), 72 artifact file(s) and 0 other file(s)"
      ],
      "text/plain": [
       "<IPython.core.display.HTML object>"
      ]
     },
     "metadata": {},
     "output_type": "display_data"
    },
    {
     "data": {
      "text/html": [
       "Find logs at: <code>.\\wandb\\run-20250603_153858-zzh1ok30\\logs</code>"
      ],
      "text/plain": [
       "<IPython.core.display.HTML object>"
      ]
     },
     "metadata": {},
     "output_type": "display_data"
    },
    {
     "name": "stderr",
     "output_type": "stream",
     "text": [
      "Using default `ModelCheckpoint`. Consider installing `litmodels` package to enable `LitModelCheckpoint` for automatic upload to the Lightning model registry.\n",
      "GPU available: True (cuda), used: True\n",
      "TPU available: False, using: 0 TPU cores\n",
      "HPU available: False, using: 0 HPUs\n"
     ]
    },
    {
     "name": "stdout",
     "output_type": "stream",
     "text": [
      "Model checkpoint saved as C:\\Users\\lukas\\SynologyDrive_IMS/SS25_MSYS_KAER-AI-PoseAct/21_Test_Data/Models/CNN\\binaryClassification_CNN_KaninchenModel_v14_2025-06-03_15-38-58.ckpt\n",
      "Completed training for KaninchenModel_v14\n",
      "   | Name           | Type              | Params | Mode \n",
      "--------------------------------------------------------------\n",
      "0  | criterion      | BCEWithLogitsLoss | 0      | train\n",
      "1  | sigmoid        | Sigmoid           | 0      | train\n",
      "2  | model          | Sequential        | 1.1 M  | train\n",
      "3  | model.0        | Conv2d            | 896    | train\n",
      "4  | model.1        | BatchNorm2d       | 64     | train\n",
      "5  | model.2        | ReLU              | 0      | train\n",
      "6  | model.3        | MaxPool2d         | 0      | train\n",
      "7  | model.4        | Conv2d            | 18.5 K | train\n",
      "8  | model.5        | BatchNorm2d       | 128    | train\n",
      "9  | model.6        | ReLU              | 0      | train\n",
      "10 | model.7        | MaxPool2d         | 0      | train\n",
      "11 | model.8        | Conv2d            | 73.9 K | train\n",
      "12 | model.9        | BatchNorm2d       | 256    | train\n",
      "13 | model.10       | ReLU              | 0      | train\n",
      "14 | model.11       | MaxPool2d         | 0      | train\n",
      "15 | model.12       | Flatten           | 0      | train\n",
      "16 | model.13       | Linear            | 1.0 M  | train\n",
      "17 | model.14       | ReLU              | 0      | train\n",
      "18 | model.15       | Dropout           | 0      | train\n",
      "19 | model.16       | Linear            | 513    | train\n",
      "20 | train_accuracy | BinaryAccuracy    | 0      | train\n",
      "21 | val_accuracy   | BinaryAccuracy    | 0      | train\n",
      "22 | val_precision  | BinaryPrecision   | 0      | train\n",
      "23 | val_recall     | BinaryRecall      | 0      | train\n",
      "24 | test_accuracy  | BinaryAccuracy    | 0      | train\n",
      "25 | init_conv      | Sequential        | 3.8 K  | train\n",
      "26 | init_conv.0    | Conv2d            | 3.6 K  | train\n",
      "27 | init_conv.1    | BatchNorm2d       | 256    | train\n",
      "28 | init_conv.2    | ReLU              | 0      | train\n",
      "29 | layer1         | Sequential        | 295 K  | train\n",
      "30 | layer1.0       | Conv2d            | 147 K  | train\n",
      "31 | layer1.1       | BatchNorm2d       | 256    | train\n",
      "32 | layer1.2       | ReLU              | 0      | train\n",
      "33 | layer1.3       | Conv2d            | 147 K  | train\n",
      "34 | layer1.4       | BatchNorm2d       | 256    | train\n",
      "35 | layer1.5       | ReLU              | 0      | train\n",
      "36 | layer1.6       | MaxPool2d         | 0      | train\n",
      "37 | layer2         | Sequential        | 886 K  | train\n",
      "38 | layer2.0       | Conv2d            | 295 K  | train\n",
      "39 | layer2.1       | BatchNorm2d       | 512    | train\n",
      "40 | layer2.2       | ReLU              | 0      | train\n",
      "41 | layer2.3       | Conv2d            | 590 K  | train\n",
      "42 | layer2.4       | BatchNorm2d       | 512    | train\n",
      "43 | layer2.5       | ReLU              | 0      | train\n",
      "44 | layer2.6       | MaxPool2d         | 0      | train\n",
      "45 | layer3         | Sequential        | 1.2 M  | train\n",
      "46 | layer3.0       | Conv2d            | 590 K  | train\n",
      "47 | layer3.1       | BatchNorm2d       | 512    | train\n",
      "48 | layer3.2       | ReLU              | 0      | train\n",
      "49 | layer3.3       | Conv2d            | 590 K  | train\n",
      "50 | layer3.4       | BatchNorm2d       | 512    | train\n",
      "51 | layer3.5       | ReLU              | 0      | train\n",
      "52 | layer3.6       | MaxPool2d         | 0      | train\n",
      "53 | layer4         | Sequential        | 3.5 M  | train\n",
      "54 | layer4.0       | Conv2d            | 1.2 M  | train\n",
      "55 | layer4.1       | BatchNorm2d       | 1.0 K  | train\n",
      "56 | layer4.2       | ReLU              | 0      | train\n",
      "57 | layer4.3       | Conv2d            | 2.4 M  | train\n",
      "58 | layer4.4       | BatchNorm2d       | 1.0 K  | train\n",
      "59 | layer4.5       | ReLU              | 0      | train\n",
      "60 | layer4.6       | MaxPool2d         | 0      | train\n",
      "61 | layer5         | Sequential        | 14.2 M | train\n",
      "62 | layer5.0       | Conv2d            | 4.7 M  | train\n",
      "63 | layer5.1       | BatchNorm2d       | 2.0 K  | train\n",
      "64 | layer5.2       | ReLU              | 0      | train\n",
      "65 | layer5.3       | Conv2d            | 9.4 M  | train\n",
      "66 | layer5.4       | BatchNorm2d       | 2.0 K  | train\n",
      "67 | layer5.5       | ReLU              | 0      | train\n",
      "68 | layer5.6       | MaxPool2d         | 0      | train\n",
      "69 | layer6         | Sequential        | 18.9 M | train\n",
      "70 | layer6.0       | Conv2d            | 9.4 M  | train\n",
      "71 | layer6.1       | BatchNorm2d       | 2.0 K  | train\n",
      "72 | layer6.2       | ReLU              | 0      | train\n",
      "73 | layer6.3       | Conv2d            | 9.4 M  | train\n",
      "74 | layer6.4       | BatchNorm2d       | 2.0 K  | train\n",
      "75 | layer6.5       | ReLU              | 0      | train\n",
      "76 | layer6.6       | MaxPool2d         | 0      | train\n",
      "77 | pool           | AdaptiveAvgPool2d | 0      | train\n",
      "78 | flatten        | Flatten           | 0      | train\n",
      "79 | fc1            | Linear            | 524 K  | train\n",
      "80 | relu_fc1       | ReLU              | 0      | train\n",
      "81 | fc2            | Linear            | 131 K  | train\n",
      "82 | relu_fc2       | ReLU              | 0      | train\n",
      "83 | fc3            | Linear            | 32.9 K | train\n",
      "84 | relu_fc3       | ReLU              | 0      | train\n",
      "85 | fc4            | Linear            | 8.3 K  | train\n",
      "86 | relu_fc4       | ReLU              | 0      | train\n",
      "87 | fc_out         | Linear            | 65     | train\n",
      "--------------------------------------------------------------\n",
      "40.8 M    Trainable params\n",
      "0         Non-trainable params\n",
      "40.8 M    Total params\n",
      "163.168   Total estimated model params size (MB)\n",
      "88        Modules in train mode\n",
      "0         Modules in eval mode\n",
      "KaninchenModel_v15\n"
     ]
    },
    {
     "data": {
      "text/html": [
       "Tracking run with wandb version 0.19.11"
      ],
      "text/plain": [
       "<IPython.core.display.HTML object>"
      ]
     },
     "metadata": {},
     "output_type": "display_data"
    },
    {
     "data": {
      "text/html": [
       "Run data is saved locally in <code>.\\wandb\\run-20250603_155314-mejrhhv9</code>"
      ],
      "text/plain": [
       "<IPython.core.display.HTML object>"
      ]
     },
     "metadata": {},
     "output_type": "display_data"
    },
    {
     "data": {
      "text/html": [
       "Syncing run <strong><a href='https://wandb.ai/HKA-EKG-Signalverarbeitung/VDKI-Hasen/runs/mejrhhv9' target=\"_blank\">binaryClassification_CNN_KaninchenModel_v15_2025-06-03_15-53-14</a></strong> to <a href='https://wandb.ai/HKA-EKG-Signalverarbeitung/VDKI-Hasen' target=\"_blank\">Weights & Biases</a> (<a href='https://wandb.me/developer-guide' target=\"_blank\">docs</a>)<br>"
      ],
      "text/plain": [
       "<IPython.core.display.HTML object>"
      ]
     },
     "metadata": {},
     "output_type": "display_data"
    },
    {
     "data": {
      "text/html": [
       " View project at <a href='https://wandb.ai/HKA-EKG-Signalverarbeitung/VDKI-Hasen' target=\"_blank\">https://wandb.ai/HKA-EKG-Signalverarbeitung/VDKI-Hasen</a>"
      ],
      "text/plain": [
       "<IPython.core.display.HTML object>"
      ]
     },
     "metadata": {},
     "output_type": "display_data"
    },
    {
     "data": {
      "text/html": [
       " View run at <a href='https://wandb.ai/HKA-EKG-Signalverarbeitung/VDKI-Hasen/runs/mejrhhv9' target=\"_blank\">https://wandb.ai/HKA-EKG-Signalverarbeitung/VDKI-Hasen/runs/mejrhhv9</a>"
      ],
      "text/plain": [
       "<IPython.core.display.HTML object>"
      ]
     },
     "metadata": {},
     "output_type": "display_data"
    },
    {
     "name": "stderr",
     "output_type": "stream",
     "text": [
      "LOCAL_RANK: 0 - CUDA_VISIBLE_DEVICES: [0]\n",
      "\n",
      "   | Name           | Type              | Params | Mode \n",
      "--------------------------------------------------------------\n",
      "0  | criterion      | BCEWithLogitsLoss | 0      | train\n",
      "1  | sigmoid        | Sigmoid           | 0      | train\n",
      "2  | model          | Sequential        | 1.1 M  | train\n",
      "3  | train_accuracy | BinaryAccuracy    | 0      | train\n",
      "4  | val_accuracy   | BinaryAccuracy    | 0      | train\n",
      "5  | val_precision  | BinaryPrecision   | 0      | train\n",
      "6  | val_recall     | BinaryRecall      | 0      | train\n",
      "7  | test_accuracy  | BinaryAccuracy    | 0      | train\n",
      "8  | init_conv      | Sequential        | 3.8 K  | train\n",
      "9  | layer1         | Sequential        | 295 K  | train\n",
      "10 | layer2         | Sequential        | 886 K  | train\n",
      "11 | layer3         | Sequential        | 1.2 M  | train\n",
      "12 | layer4         | Sequential        | 3.5 M  | train\n",
      "13 | layer5         | Sequential        | 14.2 M | train\n",
      "14 | layer6         | Sequential        | 18.9 M | train\n",
      "15 | pool           | AdaptiveAvgPool2d | 0      | train\n",
      "16 | flatten        | Flatten           | 0      | train\n",
      "17 | fc1            | Linear            | 524 K  | train\n",
      "18 | relu_fc1       | ReLU              | 0      | train\n",
      "19 | fc2            | Linear            | 131 K  | train\n",
      "20 | relu_fc2       | ReLU              | 0      | train\n",
      "21 | fc3            | Linear            | 32.9 K | train\n",
      "22 | relu_fc3       | ReLU              | 0      | train\n",
      "23 | fc4            | Linear            | 8.3 K  | train\n",
      "24 | relu_fc4       | ReLU              | 0      | train\n",
      "25 | fc_out         | Linear            | 65     | train\n",
      "--------------------------------------------------------------\n",
      "40.8 M    Trainable params\n",
      "0         Non-trainable params\n",
      "40.8 M    Total params\n",
      "163.168   Total estimated model params size (MB)\n",
      "88        Modules in train mode\n",
      "0         Modules in eval mode\n"
     ]
    },
    {
     "name": "stdout",
     "output_type": "stream",
     "text": [
      "Sanity Checking: |          | 0/? [00:00<?, ?it/s]"
     ]
    },
    {
     "name": "stderr",
     "output_type": "stream",
     "text": [
      "c:\\Users\\lukas\\anaconda3\\envs\\VDKI-Projekt\\Lib\\site-packages\\pytorch_lightning\\trainer\\connectors\\data_connector.py:420: Consider setting `persistent_workers=True` in 'val_dataloader' to speed up the dataloader worker initialization.\n"
     ]
    },
    {
     "name": "stdout",
     "output_type": "stream",
     "text": [
      "                                                                           "
     ]
    },
    {
     "name": "stderr",
     "output_type": "stream",
     "text": [
      "c:\\Users\\lukas\\anaconda3\\envs\\VDKI-Projekt\\Lib\\site-packages\\torchmetrics\\utilities\\prints.py:43: UserWarning: The ``compute`` method of metric BinaryAccuracy was called before the ``update`` method which may lead to errors, as metric states have not yet been updated.\n",
      "  warnings.warn(*args, **kwargs)\n",
      "c:\\Users\\lukas\\anaconda3\\envs\\VDKI-Projekt\\Lib\\site-packages\\torchmetrics\\utilities\\prints.py:43: UserWarning: The ``compute`` method of metric BinaryPrecision was called before the ``update`` method which may lead to errors, as metric states have not yet been updated.\n",
      "  warnings.warn(*args, **kwargs)\n",
      "c:\\Users\\lukas\\anaconda3\\envs\\VDKI-Projekt\\Lib\\site-packages\\torchmetrics\\utilities\\prints.py:43: UserWarning: The ``compute`` method of metric BinaryRecall was called before the ``update`` method which may lead to errors, as metric states have not yet been updated.\n",
      "  warnings.warn(*args, **kwargs)\n",
      "c:\\Users\\lukas\\anaconda3\\envs\\VDKI-Projekt\\Lib\\site-packages\\pytorch_lightning\\trainer\\connectors\\data_connector.py:420: Consider setting `persistent_workers=True` in 'train_dataloader' to speed up the dataloader worker initialization.\n"
     ]
    },
    {
     "name": "stdout",
     "output_type": "stream",
     "text": [
      "Epoch 8: 100%|██████████| 161/161 [00:54<00:00,  2.98it/s, v_num=hhv9, val_loss=0.652]\n"
     ]
    },
    {
     "data": {
      "text/html": [],
      "text/plain": [
       "<IPython.core.display.HTML object>"
      ]
     },
     "metadata": {},
     "output_type": "display_data"
    },
    {
     "data": {
      "text/html": [
       "<br>    <style><br>        .wandb-row {<br>            display: flex;<br>            flex-direction: row;<br>            flex-wrap: wrap;<br>            justify-content: flex-start;<br>            width: 100%;<br>        }<br>        .wandb-col {<br>            display: flex;<br>            flex-direction: column;<br>            flex-basis: 100%;<br>            flex: 1;<br>            padding: 10px;<br>        }<br>    </style><br><div class=\"wandb-row\"><div class=\"wandb-col\"><h3>Run history:</h3><br/><table class=\"wandb\"><tr><td>Validation Data ROC AUC</td><td>▁▃▆▆▇▇██▇█</td></tr><tr><td>epoch</td><td>▁▁▁▁▁▂▂▂▂▃▃▃▃▃▄▄▄▄▅▅▅▅▅▅▅▅▅▆▆▆▆▆▇▇▇▇████</td></tr><tr><td>train_acc</td><td>▁▃▅▅▇▇█▇█</td></tr><tr><td>train_loss</td><td>▅▄▄▅▇▃▄▇▇▃▁▆▄▄▆▃▄▃▃▃▁▂▁▂▄▂█▄</td></tr><tr><td>trainer/global_step</td><td>▁▁▁▂▂▂▂▂▂▂▃▃▃▃▃▄▄▄▄▄▅▅▅▅▅▆▆▆▆▆▆▆▇▇▇▇▇███</td></tr><tr><td>val_acc</td><td>▅▁▂███▇█▆</td></tr><tr><td>val_loss</td><td>▇▇█▁▁▁▄▂▇</td></tr><tr><td>val_precision</td><td>█▁▁▇▇▇▅▇▄</td></tr><tr><td>val_recall</td><td>▁██▄▅▅▆▅▇</td></tr></table><br/></div><div class=\"wandb-col\"><h3>Run summary:</h3><br/><table class=\"wandb\"><tr><td>Validation Data ROC AUC</td><td>0.75595</td></tr><tr><td>epoch</td><td>8</td></tr><tr><td>train_acc</td><td>0.74495</td></tr><tr><td>train_loss</td><td>0.58489</td></tr><tr><td>trainer/global_step</td><td>1448</td></tr><tr><td>val_acc</td><td>0.67218</td></tr><tr><td>val_loss</td><td>0.65225</td></tr><tr><td>val_precision</td><td>0.5086</td></tr><tr><td>val_recall</td><td>0.72746</td></tr></table><br/></div></div>"
      ],
      "text/plain": [
       "<IPython.core.display.HTML object>"
      ]
     },
     "metadata": {},
     "output_type": "display_data"
    },
    {
     "data": {
      "text/html": [
       " View run <strong style=\"color:#cdcd00\">binaryClassification_CNN_KaninchenModel_v15_2025-06-03_15-53-14</strong> at: <a href='https://wandb.ai/HKA-EKG-Signalverarbeitung/VDKI-Hasen/runs/mejrhhv9' target=\"_blank\">https://wandb.ai/HKA-EKG-Signalverarbeitung/VDKI-Hasen/runs/mejrhhv9</a><br> View project at: <a href='https://wandb.ai/HKA-EKG-Signalverarbeitung/VDKI-Hasen' target=\"_blank\">https://wandb.ai/HKA-EKG-Signalverarbeitung/VDKI-Hasen</a><br>Synced 5 W&B file(s), 30 media file(s), 40 artifact file(s) and 0 other file(s)"
      ],
      "text/plain": [
       "<IPython.core.display.HTML object>"
      ]
     },
     "metadata": {},
     "output_type": "display_data"
    },
    {
     "data": {
      "text/html": [
       "Find logs at: <code>.\\wandb\\run-20250603_155314-mejrhhv9\\logs</code>"
      ],
      "text/plain": [
       "<IPython.core.display.HTML object>"
      ]
     },
     "metadata": {},
     "output_type": "display_data"
    },
    {
     "name": "stderr",
     "output_type": "stream",
     "text": [
      "Using default `ModelCheckpoint`. Consider installing `litmodels` package to enable `LitModelCheckpoint` for automatic upload to the Lightning model registry.\n",
      "GPU available: True (cuda), used: True\n",
      "TPU available: False, using: 0 TPU cores\n",
      "HPU available: False, using: 0 HPUs\n"
     ]
    },
    {
     "name": "stdout",
     "output_type": "stream",
     "text": [
      "Model checkpoint saved as C:\\Users\\lukas\\SynologyDrive_IMS/SS25_MSYS_KAER-AI-PoseAct/21_Test_Data/Models/CNN\\binaryClassification_CNN_KaninchenModel_v15_2025-06-03_15-53-14.ckpt\n",
      "Completed training for KaninchenModel_v15\n",
      "   | Name           | Type              | Params | Mode \n",
      "--------------------------------------------------------------\n",
      "0  | criterion      | BCEWithLogitsLoss | 0      | train\n",
      "1  | sigmoid        | Sigmoid           | 0      | train\n",
      "2  | model          | Sequential        | 1.1 M  | train\n",
      "3  | model.0        | Conv2d            | 896    | train\n",
      "4  | model.1        | BatchNorm2d       | 64     | train\n",
      "5  | model.2        | ReLU              | 0      | train\n",
      "6  | model.3        | MaxPool2d         | 0      | train\n",
      "7  | model.4        | Conv2d            | 18.5 K | train\n",
      "8  | model.5        | BatchNorm2d       | 128    | train\n",
      "9  | model.6        | ReLU              | 0      | train\n",
      "10 | model.7        | MaxPool2d         | 0      | train\n",
      "11 | model.8        | Conv2d            | 73.9 K | train\n",
      "12 | model.9        | BatchNorm2d       | 256    | train\n",
      "13 | model.10       | ReLU              | 0      | train\n",
      "14 | model.11       | MaxPool2d         | 0      | train\n",
      "15 | model.12       | Flatten           | 0      | train\n",
      "16 | model.13       | Linear            | 1.0 M  | train\n",
      "17 | model.14       | ReLU              | 0      | train\n",
      "18 | model.15       | Dropout           | 0      | train\n",
      "19 | model.16       | Linear            | 513    | train\n",
      "20 | train_accuracy | BinaryAccuracy    | 0      | train\n",
      "21 | val_accuracy   | BinaryAccuracy    | 0      | train\n",
      "22 | val_precision  | BinaryPrecision   | 0      | train\n",
      "23 | val_recall     | BinaryRecall      | 0      | train\n",
      "24 | test_accuracy  | BinaryAccuracy    | 0      | train\n",
      "25 | init_conv      | Sequential        | 1.9 K  | train\n",
      "26 | init_conv.0    | Conv2d            | 1.8 K  | train\n",
      "27 | init_conv.1    | BatchNorm2d       | 128    | train\n",
      "28 | init_conv.2    | ReLU              | 0      | train\n",
      "29 | layer1         | Sequential        | 221 K  | train\n",
      "30 | layer1.0       | Conv2d            | 73.9 K | train\n",
      "31 | layer1.1       | BatchNorm2d       | 256    | train\n",
      "32 | layer1.2       | ReLU              | 0      | train\n",
      "33 | layer1.3       | Conv2d            | 147 K  | train\n",
      "34 | layer1.4       | BatchNorm2d       | 256    | train\n",
      "35 | layer1.5       | ReLU              | 0      | train\n",
      "36 | layer1.6       | MaxPool2d         | 0      | train\n",
      "37 | layer2         | Sequential        | 295 K  | train\n",
      "38 | layer2.0       | Conv2d            | 147 K  | train\n",
      "39 | layer2.1       | BatchNorm2d       | 256    | train\n",
      "40 | layer2.2       | ReLU              | 0      | train\n",
      "41 | layer2.3       | Conv2d            | 147 K  | train\n",
      "42 | layer2.4       | BatchNorm2d       | 256    | train\n",
      "43 | layer2.5       | ReLU              | 0      | train\n",
      "44 | layer2.6       | MaxPool2d         | 0      | train\n",
      "45 | layer3         | Sequential        | 886 K  | train\n",
      "46 | layer3.0       | Conv2d            | 295 K  | train\n",
      "47 | layer3.1       | BatchNorm2d       | 512    | train\n",
      "48 | layer3.2       | ReLU              | 0      | train\n",
      "49 | layer3.3       | Conv2d            | 590 K  | train\n",
      "50 | layer3.4       | BatchNorm2d       | 512    | train\n",
      "51 | layer3.5       | ReLU              | 0      | train\n",
      "52 | layer3.6       | MaxPool2d         | 0      | train\n",
      "53 | layer4         | Sequential        | 1.2 M  | train\n",
      "54 | layer4.0       | Conv2d            | 590 K  | train\n",
      "55 | layer4.1       | BatchNorm2d       | 512    | train\n",
      "56 | layer4.2       | ReLU              | 0      | train\n",
      "57 | layer4.3       | Conv2d            | 590 K  | train\n",
      "58 | layer4.4       | BatchNorm2d       | 512    | train\n",
      "59 | layer4.5       | ReLU              | 0      | train\n",
      "60 | layer4.6       | MaxPool2d         | 0      | train\n",
      "61 | layer5         | Sequential        | 3.5 M  | train\n",
      "62 | layer5.0       | Conv2d            | 1.2 M  | train\n",
      "63 | layer5.1       | BatchNorm2d       | 1.0 K  | train\n",
      "64 | layer5.2       | ReLU              | 0      | train\n",
      "65 | layer5.3       | Conv2d            | 2.4 M  | train\n",
      "66 | layer5.4       | BatchNorm2d       | 1.0 K  | train\n",
      "67 | layer5.5       | ReLU              | 0      | train\n",
      "68 | layer5.6       | MaxPool2d         | 0      | train\n",
      "69 | pool           | AdaptiveAvgPool2d | 0      | train\n",
      "70 | flatten        | Flatten           | 0      | train\n",
      "71 | fc1            | Linear            | 131 K  | train\n",
      "72 | relu_fc1       | ReLU              | 0      | train\n",
      "73 | fc2            | Linear            | 32.9 K | train\n",
      "74 | relu_fc2       | ReLU              | 0      | train\n",
      "75 | fc3            | Linear            | 8.3 K  | train\n",
      "76 | relu_fc3       | ReLU              | 0      | train\n",
      "77 | fc_out         | Linear            | 65     | train\n",
      "--------------------------------------------------------------\n",
      "7.4 M     Trainable params\n",
      "0         Non-trainable params\n",
      "7.4 M     Total params\n",
      "29.779    Total estimated model params size (MB)\n",
      "78        Modules in train mode\n",
      "0         Modules in eval mode\n",
      "KaninchenModel_v16\n"
     ]
    },
    {
     "data": {
      "text/html": [
       "Tracking run with wandb version 0.19.11"
      ],
      "text/plain": [
       "<IPython.core.display.HTML object>"
      ]
     },
     "metadata": {},
     "output_type": "display_data"
    },
    {
     "data": {
      "text/html": [
       "Run data is saved locally in <code>.\\wandb\\run-20250603_160131-3e1damkt</code>"
      ],
      "text/plain": [
       "<IPython.core.display.HTML object>"
      ]
     },
     "metadata": {},
     "output_type": "display_data"
    },
    {
     "data": {
      "text/html": [
       "Syncing run <strong><a href='https://wandb.ai/HKA-EKG-Signalverarbeitung/VDKI-Hasen/runs/3e1damkt' target=\"_blank\">binaryClassification_CNN_KaninchenModel_v16_2025-06-03_16-01-31</a></strong> to <a href='https://wandb.ai/HKA-EKG-Signalverarbeitung/VDKI-Hasen' target=\"_blank\">Weights & Biases</a> (<a href='https://wandb.me/developer-guide' target=\"_blank\">docs</a>)<br>"
      ],
      "text/plain": [
       "<IPython.core.display.HTML object>"
      ]
     },
     "metadata": {},
     "output_type": "display_data"
    },
    {
     "data": {
      "text/html": [
       " View project at <a href='https://wandb.ai/HKA-EKG-Signalverarbeitung/VDKI-Hasen' target=\"_blank\">https://wandb.ai/HKA-EKG-Signalverarbeitung/VDKI-Hasen</a>"
      ],
      "text/plain": [
       "<IPython.core.display.HTML object>"
      ]
     },
     "metadata": {},
     "output_type": "display_data"
    },
    {
     "data": {
      "text/html": [
       " View run at <a href='https://wandb.ai/HKA-EKG-Signalverarbeitung/VDKI-Hasen/runs/3e1damkt' target=\"_blank\">https://wandb.ai/HKA-EKG-Signalverarbeitung/VDKI-Hasen/runs/3e1damkt</a>"
      ],
      "text/plain": [
       "<IPython.core.display.HTML object>"
      ]
     },
     "metadata": {},
     "output_type": "display_data"
    },
    {
     "name": "stderr",
     "output_type": "stream",
     "text": [
      "LOCAL_RANK: 0 - CUDA_VISIBLE_DEVICES: [0]\n",
      "\n",
      "   | Name           | Type              | Params | Mode \n",
      "--------------------------------------------------------------\n",
      "0  | criterion      | BCEWithLogitsLoss | 0      | train\n",
      "1  | sigmoid        | Sigmoid           | 0      | train\n",
      "2  | model          | Sequential        | 1.1 M  | train\n",
      "3  | train_accuracy | BinaryAccuracy    | 0      | train\n",
      "4  | val_accuracy   | BinaryAccuracy    | 0      | train\n",
      "5  | val_precision  | BinaryPrecision   | 0      | train\n",
      "6  | val_recall     | BinaryRecall      | 0      | train\n",
      "7  | test_accuracy  | BinaryAccuracy    | 0      | train\n",
      "8  | init_conv      | Sequential        | 1.9 K  | train\n",
      "9  | layer1         | Sequential        | 221 K  | train\n",
      "10 | layer2         | Sequential        | 295 K  | train\n",
      "11 | layer3         | Sequential        | 886 K  | train\n",
      "12 | layer4         | Sequential        | 1.2 M  | train\n",
      "13 | layer5         | Sequential        | 3.5 M  | train\n",
      "14 | pool           | AdaptiveAvgPool2d | 0      | train\n",
      "15 | flatten        | Flatten           | 0      | train\n",
      "16 | fc1            | Linear            | 131 K  | train\n",
      "17 | relu_fc1       | ReLU              | 0      | train\n",
      "18 | fc2            | Linear            | 32.9 K | train\n",
      "19 | relu_fc2       | ReLU              | 0      | train\n",
      "20 | fc3            | Linear            | 8.3 K  | train\n",
      "21 | relu_fc3       | ReLU              | 0      | train\n",
      "22 | fc_out         | Linear            | 65     | train\n",
      "--------------------------------------------------------------\n",
      "7.4 M     Trainable params\n",
      "0         Non-trainable params\n",
      "7.4 M     Total params\n",
      "29.779    Total estimated model params size (MB)\n",
      "78        Modules in train mode\n",
      "0         Modules in eval mode\n"
     ]
    },
    {
     "name": "stdout",
     "output_type": "stream",
     "text": [
      "Sanity Checking: |          | 0/? [00:00<?, ?it/s]"
     ]
    },
    {
     "name": "stderr",
     "output_type": "stream",
     "text": [
      "c:\\Users\\lukas\\anaconda3\\envs\\VDKI-Projekt\\Lib\\site-packages\\pytorch_lightning\\trainer\\connectors\\data_connector.py:420: Consider setting `persistent_workers=True` in 'val_dataloader' to speed up the dataloader worker initialization.\n"
     ]
    },
    {
     "name": "stdout",
     "output_type": "stream",
     "text": [
      "                                                                           "
     ]
    },
    {
     "name": "stderr",
     "output_type": "stream",
     "text": [
      "c:\\Users\\lukas\\anaconda3\\envs\\VDKI-Projekt\\Lib\\site-packages\\torchmetrics\\utilities\\prints.py:43: UserWarning: The ``compute`` method of metric BinaryAccuracy was called before the ``update`` method which may lead to errors, as metric states have not yet been updated.\n",
      "  warnings.warn(*args, **kwargs)\n",
      "c:\\Users\\lukas\\anaconda3\\envs\\VDKI-Projekt\\Lib\\site-packages\\torchmetrics\\utilities\\prints.py:43: UserWarning: The ``compute`` method of metric BinaryPrecision was called before the ``update`` method which may lead to errors, as metric states have not yet been updated.\n",
      "  warnings.warn(*args, **kwargs)\n",
      "c:\\Users\\lukas\\anaconda3\\envs\\VDKI-Projekt\\Lib\\site-packages\\torchmetrics\\utilities\\prints.py:43: UserWarning: The ``compute`` method of metric BinaryRecall was called before the ``update`` method which may lead to errors, as metric states have not yet been updated.\n",
      "  warnings.warn(*args, **kwargs)\n",
      "c:\\Users\\lukas\\anaconda3\\envs\\VDKI-Projekt\\Lib\\site-packages\\pytorch_lightning\\trainer\\connectors\\data_connector.py:420: Consider setting `persistent_workers=True` in 'train_dataloader' to speed up the dataloader worker initialization.\n"
     ]
    },
    {
     "name": "stdout",
     "output_type": "stream",
     "text": [
      "Epoch 9: 100%|██████████| 161/161 [00:41<00:00,  3.91it/s, v_num=amkt, val_loss=0.625]\n"
     ]
    },
    {
     "data": {
      "text/html": [],
      "text/plain": [
       "<IPython.core.display.HTML object>"
      ]
     },
     "metadata": {},
     "output_type": "display_data"
    },
    {
     "data": {
      "text/html": [
       "<br>    <style><br>        .wandb-row {<br>            display: flex;<br>            flex-direction: row;<br>            flex-wrap: wrap;<br>            justify-content: flex-start;<br>            width: 100%;<br>        }<br>        .wandb-col {<br>            display: flex;<br>            flex-direction: column;<br>            flex-basis: 100%;<br>            flex: 1;<br>            padding: 10px;<br>        }<br>    </style><br><div class=\"wandb-row\"><div class=\"wandb-col\"><h3>Run history:</h3><br/><table class=\"wandb\"><tr><td>Validation Data ROC AUC</td><td>▁▆▇▇▇▇████▇</td></tr><tr><td>epoch</td><td>▁▁▁▂▂▂▂▃▃▃▃▃▃▃▃▄▄▄▄▄▅▅▅▅▅▆▆▆▆▆▆▇▇▇▇█████</td></tr><tr><td>train_acc</td><td>▁▃▅▆▅▆▇▇██</td></tr><tr><td>train_loss</td><td>▅▄▄▅█▃▃▃▄▃▃▄▂▄▂▆▄▃▃▃▂▄▄▃▂▂▁▆▁▃▄▄</td></tr><tr><td>trainer/global_step</td><td>▁▁▁▂▂▂▂▂▃▃▃▃▃▃▃▄▄▄▄▄▅▅▅▅▅▆▆▆▆▆▆▇▇▇▇▇████</td></tr><tr><td>val_acc</td><td>▁▄▃▆██▄█▇▆</td></tr><tr><td>val_loss</td><td>▄▄▆▂▁▁█▁▂▄</td></tr><tr><td>val_precision</td><td>▁▃▂▄█▆▃▆▅▄</td></tr><tr><td>val_recall</td><td>███▇▁▅█▆▆▆</td></tr></table><br/></div><div class=\"wandb-col\"><h3>Run summary:</h3><br/><table class=\"wandb\"><tr><td>Validation Data ROC AUC</td><td>0.74813</td></tr><tr><td>epoch</td><td>9</td></tr><tr><td>train_acc</td><td>0.73874</td></tr><tr><td>train_loss</td><td>0.57013</td></tr><tr><td>trainer/global_step</td><td>1609</td></tr><tr><td>val_acc</td><td>0.66873</td></tr><tr><td>val_loss</td><td>0.62525</td></tr><tr><td>val_precision</td><td>0.5082</td></tr><tr><td>val_recall</td><td>0.69309</td></tr></table><br/></div></div>"
      ],
      "text/plain": [
       "<IPython.core.display.HTML object>"
      ]
     },
     "metadata": {},
     "output_type": "display_data"
    },
    {
     "data": {
      "text/html": [
       " View run <strong style=\"color:#cdcd00\">binaryClassification_CNN_KaninchenModel_v16_2025-06-03_16-01-31</strong> at: <a href='https://wandb.ai/HKA-EKG-Signalverarbeitung/VDKI-Hasen/runs/3e1damkt' target=\"_blank\">https://wandb.ai/HKA-EKG-Signalverarbeitung/VDKI-Hasen/runs/3e1damkt</a><br> View project at: <a href='https://wandb.ai/HKA-EKG-Signalverarbeitung/VDKI-Hasen' target=\"_blank\">https://wandb.ai/HKA-EKG-Signalverarbeitung/VDKI-Hasen</a><br>Synced 5 W&B file(s), 33 media file(s), 44 artifact file(s) and 0 other file(s)"
      ],
      "text/plain": [
       "<IPython.core.display.HTML object>"
      ]
     },
     "metadata": {},
     "output_type": "display_data"
    },
    {
     "data": {
      "text/html": [
       "Find logs at: <code>.\\wandb\\run-20250603_160131-3e1damkt\\logs</code>"
      ],
      "text/plain": [
       "<IPython.core.display.HTML object>"
      ]
     },
     "metadata": {},
     "output_type": "display_data"
    },
    {
     "name": "stderr",
     "output_type": "stream",
     "text": [
      "Using default `ModelCheckpoint`. Consider installing `litmodels` package to enable `LitModelCheckpoint` for automatic upload to the Lightning model registry.\n",
      "GPU available: True (cuda), used: True\n",
      "TPU available: False, using: 0 TPU cores\n",
      "HPU available: False, using: 0 HPUs\n"
     ]
    },
    {
     "name": "stdout",
     "output_type": "stream",
     "text": [
      "Model checkpoint saved as C:\\Users\\lukas\\SynologyDrive_IMS/SS25_MSYS_KAER-AI-PoseAct/21_Test_Data/Models/CNN\\binaryClassification_CNN_KaninchenModel_v16_2025-06-03_16-01-31.ckpt\n",
      "Completed training for KaninchenModel_v16\n",
      "   | Name                | Type              | Params | Mode \n",
      "-------------------------------------------------------------------\n",
      "0  | criterion           | BCEWithLogitsLoss | 0      | train\n",
      "1  | sigmoid             | Sigmoid           | 0      | train\n",
      "2  | model               | Sequential        | 1.1 M  | train\n",
      "3  | model.0             | Conv2d            | 896    | train\n",
      "4  | model.1             | BatchNorm2d       | 64     | train\n",
      "5  | model.2             | ReLU              | 0      | train\n",
      "6  | model.3             | MaxPool2d         | 0      | train\n",
      "7  | model.4             | Conv2d            | 18.5 K | train\n",
      "8  | model.5             | BatchNorm2d       | 128    | train\n",
      "9  | model.6             | ReLU              | 0      | train\n",
      "10 | model.7             | MaxPool2d         | 0      | train\n",
      "11 | model.8             | Conv2d            | 73.9 K | train\n",
      "12 | model.9             | BatchNorm2d       | 256    | train\n",
      "13 | model.10            | ReLU              | 0      | train\n",
      "14 | model.11            | MaxPool2d         | 0      | train\n",
      "15 | model.12            | Flatten           | 0      | train\n",
      "16 | model.13            | Linear            | 1.0 M  | train\n",
      "17 | model.14            | ReLU              | 0      | train\n",
      "18 | model.15            | Dropout           | 0      | train\n",
      "19 | model.16            | Linear            | 513    | train\n",
      "20 | train_accuracy      | BinaryAccuracy    | 0      | train\n",
      "21 | val_accuracy        | BinaryAccuracy    | 0      | train\n",
      "22 | val_precision       | BinaryPrecision   | 0      | train\n",
      "23 | val_recall          | BinaryRecall      | 0      | train\n",
      "24 | test_accuracy       | BinaryAccuracy    | 0      | train\n",
      "25 | init_conv           | Sequential        | 3.8 K  | train\n",
      "26 | init_conv.0         | Conv2d            | 3.6 K  | train\n",
      "27 | init_conv.1         | BatchNorm2d       | 256    | train\n",
      "28 | init_conv.2         | ReLU              | 0      | train\n",
      "29 | layer1              | Sequential        | 295 K  | train\n",
      "30 | layer1.0            | Conv2d            | 147 K  | train\n",
      "31 | layer1.1            | BatchNorm2d       | 256    | train\n",
      "32 | layer1.2            | ReLU              | 0      | train\n",
      "33 | layer1.3            | Conv2d            | 147 K  | train\n",
      "34 | layer1.4            | BatchNorm2d       | 256    | train\n",
      "35 | layer1.5            | ReLU              | 0      | train\n",
      "36 | layer1.6            | MaxPool2d         | 0      | train\n",
      "37 | layer2              | Sequential        | 886 K  | train\n",
      "38 | layer2.0            | Conv2d            | 295 K  | train\n",
      "39 | layer2.1            | BatchNorm2d       | 512    | train\n",
      "40 | layer2.2            | ReLU              | 0      | train\n",
      "41 | layer2.3            | Conv2d            | 590 K  | train\n",
      "42 | layer2.4            | BatchNorm2d       | 512    | train\n",
      "43 | layer2.5            | ReLU              | 0      | train\n",
      "44 | layer2.6            | MaxPool2d         | 0      | train\n",
      "45 | layer3              | Sequential        | 1.2 M  | train\n",
      "46 | layer3.0            | Conv2d            | 590 K  | train\n",
      "47 | layer3.1            | BatchNorm2d       | 512    | train\n",
      "48 | layer3.2            | ReLU              | 0      | train\n",
      "49 | layer3.3            | Conv2d            | 590 K  | train\n",
      "50 | layer3.4            | BatchNorm2d       | 512    | train\n",
      "51 | layer3.5            | ReLU              | 0      | train\n",
      "52 | layer3.6            | MaxPool2d         | 0      | train\n",
      "53 | layer4              | Sequential        | 3.5 M  | train\n",
      "54 | layer4.0            | Conv2d            | 1.2 M  | train\n",
      "55 | layer4.1            | BatchNorm2d       | 1.0 K  | train\n",
      "56 | layer4.2            | ReLU              | 0      | train\n",
      "57 | layer4.3            | Conv2d            | 2.4 M  | train\n",
      "58 | layer4.4            | BatchNorm2d       | 1.0 K  | train\n",
      "59 | layer4.5            | ReLU              | 0      | train\n",
      "60 | layer4.6            | MaxPool2d         | 0      | train\n",
      "61 | layer5              | ResidualBlock     | 5.0 M  | train\n",
      "62 | layer5.conv_block   | Sequential        | 4.7 M  | train\n",
      "63 | layer5.conv_block.0 | Conv2d            | 2.4 M  | train\n",
      "64 | layer5.conv_block.1 | BatchNorm2d       | 1.0 K  | train\n",
      "65 | layer5.conv_block.2 | ReLU              | 0      | train\n",
      "66 | layer5.conv_block.3 | Conv2d            | 2.4 M  | train\n",
      "67 | layer5.conv_block.4 | BatchNorm2d       | 1.0 K  | train\n",
      "68 | layer5.skip         | Sequential        | 263 K  | train\n",
      "69 | layer5.skip.0       | Conv2d            | 262 K  | train\n",
      "70 | layer5.skip.1       | BatchNorm2d       | 1.0 K  | train\n",
      "71 | layer5.relu         | ReLU              | 0      | train\n",
      "72 | pool                | AdaptiveAvgPool2d | 0      | train\n",
      "73 | flatten             | Flatten           | 0      | train\n",
      "74 | fc1                 | Linear            | 131 K  | train\n",
      "75 | relu_fc1            | ReLU              | 0      | train\n",
      "76 | fc2                 | Linear            | 32.9 K | train\n",
      "77 | relu_fc2            | ReLU              | 0      | train\n",
      "78 | fc3                 | Linear            | 8.3 K  | train\n",
      "79 | relu_fc3            | ReLU              | 0      | train\n",
      "80 | fc_out              | Linear            | 65     | train\n",
      "-------------------------------------------------------------------\n",
      "12.2 M    Trainable params\n",
      "0         Non-trainable params\n",
      "12.2 M    Total params\n",
      "48.841    Total estimated model params size (MB)\n",
      "81        Modules in train mode\n",
      "0         Modules in eval mode\n",
      "KaninchenModel_v17\n"
     ]
    },
    {
     "data": {
      "text/html": [
       "Tracking run with wandb version 0.19.11"
      ],
      "text/plain": [
       "<IPython.core.display.HTML object>"
      ]
     },
     "metadata": {},
     "output_type": "display_data"
    },
    {
     "data": {
      "text/html": [
       "Run data is saved locally in <code>.\\wandb\\run-20250603_160832-0ljco3bc</code>"
      ],
      "text/plain": [
       "<IPython.core.display.HTML object>"
      ]
     },
     "metadata": {},
     "output_type": "display_data"
    },
    {
     "data": {
      "text/html": [
       "Syncing run <strong><a href='https://wandb.ai/HKA-EKG-Signalverarbeitung/VDKI-Hasen/runs/0ljco3bc' target=\"_blank\">binaryClassification_CNN_KaninchenModel_v17_2025-06-03_16-08-32</a></strong> to <a href='https://wandb.ai/HKA-EKG-Signalverarbeitung/VDKI-Hasen' target=\"_blank\">Weights & Biases</a> (<a href='https://wandb.me/developer-guide' target=\"_blank\">docs</a>)<br>"
      ],
      "text/plain": [
       "<IPython.core.display.HTML object>"
      ]
     },
     "metadata": {},
     "output_type": "display_data"
    },
    {
     "data": {
      "text/html": [
       " View project at <a href='https://wandb.ai/HKA-EKG-Signalverarbeitung/VDKI-Hasen' target=\"_blank\">https://wandb.ai/HKA-EKG-Signalverarbeitung/VDKI-Hasen</a>"
      ],
      "text/plain": [
       "<IPython.core.display.HTML object>"
      ]
     },
     "metadata": {},
     "output_type": "display_data"
    },
    {
     "data": {
      "text/html": [
       " View run at <a href='https://wandb.ai/HKA-EKG-Signalverarbeitung/VDKI-Hasen/runs/0ljco3bc' target=\"_blank\">https://wandb.ai/HKA-EKG-Signalverarbeitung/VDKI-Hasen/runs/0ljco3bc</a>"
      ],
      "text/plain": [
       "<IPython.core.display.HTML object>"
      ]
     },
     "metadata": {},
     "output_type": "display_data"
    },
    {
     "name": "stderr",
     "output_type": "stream",
     "text": [
      "LOCAL_RANK: 0 - CUDA_VISIBLE_DEVICES: [0]\n",
      "\n",
      "   | Name           | Type              | Params | Mode \n",
      "--------------------------------------------------------------\n",
      "0  | criterion      | BCEWithLogitsLoss | 0      | train\n",
      "1  | sigmoid        | Sigmoid           | 0      | train\n",
      "2  | model          | Sequential        | 1.1 M  | train\n",
      "3  | train_accuracy | BinaryAccuracy    | 0      | train\n",
      "4  | val_accuracy   | BinaryAccuracy    | 0      | train\n",
      "5  | val_precision  | BinaryPrecision   | 0      | train\n",
      "6  | val_recall     | BinaryRecall      | 0      | train\n",
      "7  | test_accuracy  | BinaryAccuracy    | 0      | train\n",
      "8  | init_conv      | Sequential        | 3.8 K  | train\n",
      "9  | layer1         | Sequential        | 295 K  | train\n",
      "10 | layer2         | Sequential        | 886 K  | train\n",
      "11 | layer3         | Sequential        | 1.2 M  | train\n",
      "12 | layer4         | Sequential        | 3.5 M  | train\n",
      "13 | layer5         | ResidualBlock     | 5.0 M  | train\n",
      "14 | pool           | AdaptiveAvgPool2d | 0      | train\n",
      "15 | flatten        | Flatten           | 0      | train\n",
      "16 | fc1            | Linear            | 131 K  | train\n",
      "17 | relu_fc1       | ReLU              | 0      | train\n",
      "18 | fc2            | Linear            | 32.9 K | train\n",
      "19 | relu_fc2       | ReLU              | 0      | train\n",
      "20 | fc3            | Linear            | 8.3 K  | train\n",
      "21 | relu_fc3       | ReLU              | 0      | train\n",
      "22 | fc_out         | Linear            | 65     | train\n",
      "--------------------------------------------------------------\n",
      "12.2 M    Trainable params\n",
      "0         Non-trainable params\n",
      "12.2 M    Total params\n",
      "48.841    Total estimated model params size (MB)\n",
      "81        Modules in train mode\n",
      "0         Modules in eval mode\n"
     ]
    },
    {
     "name": "stdout",
     "output_type": "stream",
     "text": [
      "Sanity Checking: |          | 0/? [00:00<?, ?it/s]"
     ]
    },
    {
     "name": "stderr",
     "output_type": "stream",
     "text": [
      "c:\\Users\\lukas\\anaconda3\\envs\\VDKI-Projekt\\Lib\\site-packages\\pytorch_lightning\\trainer\\connectors\\data_connector.py:420: Consider setting `persistent_workers=True` in 'val_dataloader' to speed up the dataloader worker initialization.\n"
     ]
    },
    {
     "name": "stdout",
     "output_type": "stream",
     "text": [
      "                                                                           "
     ]
    },
    {
     "name": "stderr",
     "output_type": "stream",
     "text": [
      "c:\\Users\\lukas\\anaconda3\\envs\\VDKI-Projekt\\Lib\\site-packages\\torchmetrics\\utilities\\prints.py:43: UserWarning: The ``compute`` method of metric BinaryAccuracy was called before the ``update`` method which may lead to errors, as metric states have not yet been updated.\n",
      "  warnings.warn(*args, **kwargs)\n",
      "c:\\Users\\lukas\\anaconda3\\envs\\VDKI-Projekt\\Lib\\site-packages\\torchmetrics\\utilities\\prints.py:43: UserWarning: The ``compute`` method of metric BinaryPrecision was called before the ``update`` method which may lead to errors, as metric states have not yet been updated.\n",
      "  warnings.warn(*args, **kwargs)\n",
      "c:\\Users\\lukas\\anaconda3\\envs\\VDKI-Projekt\\Lib\\site-packages\\torchmetrics\\utilities\\prints.py:43: UserWarning: The ``compute`` method of metric BinaryRecall was called before the ``update`` method which may lead to errors, as metric states have not yet been updated.\n",
      "  warnings.warn(*args, **kwargs)\n",
      "c:\\Users\\lukas\\anaconda3\\envs\\VDKI-Projekt\\Lib\\site-packages\\pytorch_lightning\\trainer\\connectors\\data_connector.py:420: Consider setting `persistent_workers=True` in 'train_dataloader' to speed up the dataloader worker initialization.\n"
     ]
    },
    {
     "name": "stdout",
     "output_type": "stream",
     "text": [
      "Epoch 7: 100%|██████████| 161/161 [00:49<00:00,  3.22it/s, v_num=o3bc, val_loss=0.603]\n"
     ]
    },
    {
     "data": {
      "text/html": [],
      "text/plain": [
       "<IPython.core.display.HTML object>"
      ]
     },
     "metadata": {},
     "output_type": "display_data"
    },
    {
     "data": {
      "text/html": [
       "<br>    <style><br>        .wandb-row {<br>            display: flex;<br>            flex-direction: row;<br>            flex-wrap: wrap;<br>            justify-content: flex-start;<br>            width: 100%;<br>        }<br>        .wandb-col {<br>            display: flex;<br>            flex-direction: column;<br>            flex-basis: 100%;<br>            flex: 1;<br>            padding: 10px;<br>        }<br>    </style><br><div class=\"wandb-row\"><div class=\"wandb-col\"><h3>Run history:</h3><br/><table class=\"wandb\"><tr><td>Validation Data ROC AUC</td><td>▁▆▆▆▇▇█▆█</td></tr><tr><td>epoch</td><td>▁▁▁▁▁▂▂▂▂▂▃▃▃▃▃▄▄▄▄▄▅▅▅▅▅▅▆▆▆▆▆▇▇▇▇▇████</td></tr><tr><td>train_acc</td><td>▁▃▄▆▆▇▇█</td></tr><tr><td>train_loss</td><td>▇▅▇▃▆▇▅▅▅▂▅▂█▇▄▇▆▁▄▃▁▅██▄</td></tr><tr><td>trainer/global_step</td><td>▁▁▂▂▂▂▂▂▃▃▃▃▃▃▄▄▄▄▄▄▅▅▅▅▅▅▆▆▆▆▆▆▇▇▇▇████</td></tr><tr><td>val_acc</td><td>▁▅▃▆▆▆█▃</td></tr><tr><td>val_loss</td><td>▂▄▁▄▁▂█▁</td></tr><tr><td>val_precision</td><td>▁▃▃▄▄▄█▂</td></tr><tr><td>val_recall</td><td>▅▆▆▇▆█▁█</td></tr></table><br/></div><div class=\"wandb-col\"><h3>Run summary:</h3><br/><table class=\"wandb\"><tr><td>Validation Data ROC AUC</td><td>0.78081</td></tr><tr><td>epoch</td><td>7</td></tr><tr><td>train_acc</td><td>0.7533</td></tr><tr><td>train_loss</td><td>0.49859</td></tr><tr><td>trainer/global_step</td><td>1287</td></tr><tr><td>val_acc</td><td>0.63705</td></tr><tr><td>val_loss</td><td>0.60306</td></tr><tr><td>val_precision</td><td>0.4826</td></tr><tr><td>val_recall</td><td>0.86694</td></tr></table><br/></div></div>"
      ],
      "text/plain": [
       "<IPython.core.display.HTML object>"
      ]
     },
     "metadata": {},
     "output_type": "display_data"
    },
    {
     "data": {
      "text/html": [
       " View run <strong style=\"color:#cdcd00\">binaryClassification_CNN_KaninchenModel_v17_2025-06-03_16-08-32</strong> at: <a href='https://wandb.ai/HKA-EKG-Signalverarbeitung/VDKI-Hasen/runs/0ljco3bc' target=\"_blank\">https://wandb.ai/HKA-EKG-Signalverarbeitung/VDKI-Hasen/runs/0ljco3bc</a><br> View project at: <a href='https://wandb.ai/HKA-EKG-Signalverarbeitung/VDKI-Hasen' target=\"_blank\">https://wandb.ai/HKA-EKG-Signalverarbeitung/VDKI-Hasen</a><br>Synced 5 W&B file(s), 27 media file(s), 36 artifact file(s) and 0 other file(s)"
      ],
      "text/plain": [
       "<IPython.core.display.HTML object>"
      ]
     },
     "metadata": {},
     "output_type": "display_data"
    },
    {
     "data": {
      "text/html": [
       "Find logs at: <code>.\\wandb\\run-20250603_160832-0ljco3bc\\logs</code>"
      ],
      "text/plain": [
       "<IPython.core.display.HTML object>"
      ]
     },
     "metadata": {},
     "output_type": "display_data"
    },
    {
     "name": "stdout",
     "output_type": "stream",
     "text": [
      "Model checkpoint saved as C:\\Users\\lukas\\SynologyDrive_IMS/SS25_MSYS_KAER-AI-PoseAct/21_Test_Data/Models/CNN\\binaryClassification_CNN_KaninchenModel_v17_2025-06-03_16-08-32.ckpt\n",
      "Completed training for KaninchenModel_v17\n"
     ]
    }
   ],
   "source": [
    "# List of all model classes to train\n",
    "model_classes = [KaninchenModel_v11, KaninchenModel_v12, KaninchenModel_v13, KaninchenModel_v14, KaninchenModel_v15, KaninchenModel_v16, KaninchenModel_v17]\n",
    "\n",
    "import datetime\n",
    "for model_class in model_classes:\n",
    "    # Create model instance\n",
    "    model = model_class()\n",
    "    print(ModelSummary(model, max_depth=-1))  \n",
    "    print(type(model).__name__)\n",
    "\n",
    "    # Initialize the Wandb logger\n",
    "    # add time to the name of the experiment\n",
    "    now = datetime.datetime.now()\n",
    "    current_time = now.strftime(\"%Y-%m-%d_%H-%M-%S\")\n",
    "\n",
    "    # Initialize wandb logger\n",
    "    wandb_logger = WandbLogger(\n",
    "        project=config['wandb_project_name'],\n",
    "        name=f\"{config['wandb_experiment_name']}_{type(model).__name__}_{current_time}\",\n",
    "        config={\n",
    "            'model': type(model).__name__,\n",
    "            'dataset': 'DwarfRabbits-binary',\n",
    "            'batch_size': config['batch_size'],\n",
    "            'max_epochs': config['max_epochs'],\n",
    "            'learning_rate': config['learning_rate']\n",
    "        }\n",
    "    )\n",
    "\n",
    "    # Initialize Trainer with wandb logger, using early stopping callback\n",
    "    trainer = Trainer(\n",
    "        max_epochs=config['max_epochs'], \n",
    "        default_root_dir='model/checkpoint/',\n",
    "        accelerator=\"auto\", \n",
    "        devices=\"auto\", \n",
    "        strategy=\"auto\",\n",
    "        callbacks=[EarlyStopping(monitor='val_loss', patience=5, mode='min')], \n",
    "        logger=wandb_logger)\n",
    "\n",
    "    # Training of the model\n",
    "    trainer.fit(model=model, datamodule=dm)\n",
    "\n",
    "    # Finish wandb\n",
    "    wandb.finish()\n",
    "\n",
    "    # Create a filename with date identifier\n",
    "    model_filename = f\"{config['wandb_experiment_name']}_{type(model).__name__}_{current_time}.ckpt\"\n",
    "\n",
    "    # Save the model's state_dict to the path specified in config\n",
    "    save_path = os.path.join(os.path.dirname(config['path_to_models']), model_filename)\n",
    "    trainer.save_checkpoint(save_path)\n",
    "    print(f\"Model checkpoint saved as {save_path}\")\n",
    "    \n",
    "    # Update config with the last trained model path\n",
    "    config['path_to_model'] = save_path\n",
    "    \n",
    "    print(f\"Completed training for {model_class.__name__}\")"
   ]
  },
  {
   "cell_type": "markdown",
   "id": "95161133",
   "metadata": {},
   "source": [
    "### Hyperparameter Optimization with Optuna\n",
    "\n",
    "This section performs automated hyperparameter tuning using Optuna to find the optimal model configuration. The optimization process searches for hyperparameters that minimize validation loss across multiple trials, helping to improve model performance beyond manual tuning."
   ]
  },
  {
   "cell_type": "code",
   "execution_count": null,
   "id": "576170ee",
   "metadata": {},
   "outputs": [],
   "source": [
    "# Hyperparameter optimization\n",
    "import datetime\n",
    "config['sweep_id'] = datetime.datetime.now().strftime(\"%Y%m%d_%H%M\")\n",
    "\n",
    "def objective(trial):\n",
    "    model = KaninchenModel                  # or another model's class, depending on your choice\n",
    "    trainer = CnnOptunaTrainer(\n",
    "        model=model,                        # Function to create the model\n",
    "        config=config,\n",
    "        normalize_mean=None, #[0.485, 0.456, 0.406], \n",
    "        normalize_std=None, #[0.229, 0.224, 0.225],\n",
    "        dataset_name=\"DwarfRabbits-binary\"\n",
    "    )\n",
    "    return trainer.run_training(trial)\n",
    "\n",
    "# Create an Optuna study\n",
    "study = optuna.create_study(direction=\"minimize\")  # because we minimize val_loss\n",
    "\n",
    "# Set verbosity to WARNING to reduce output clutter\n",
    "optuna.logging.set_verbosity(optuna.logging.WARNING)\n",
    "\n",
    "# Start the hyperparameter optimization\n",
    "study.optimize(objective, n_trials=config['number_of_trials'])\n",
    "# study.optimize(objective, n_trials=3)\n",
    "\n",
    "# Best result\n",
    "print(\"Best trial:\")\n",
    "print(study.best_trial.params)\n",
    "print(\"Best value (val_loss):\", study.best_value)"
   ]
  },
  {
   "cell_type": "code",
   "execution_count": null,
   "id": "378aefa4",
   "metadata": {},
   "outputs": [],
   "source": [
    "optuna.visualization.plot_optimization_history(study)"
   ]
  },
  {
   "cell_type": "code",
   "execution_count": null,
   "id": "94714cbf",
   "metadata": {},
   "outputs": [],
   "source": [
    "optuna.visualization.plot_param_importances(study)"
   ]
  },
  {
   "cell_type": "markdown",
   "id": "974a07eb",
   "metadata": {},
   "source": [
    "# Predict with the Model\n"
   ]
  },
  {
   "cell_type": "code",
   "execution_count": null,
   "id": "fdd9ad3f",
   "metadata": {},
   "outputs": [],
   "source": [
    "# from PIL import Image\n",
    "# import torch\n",
    "# # Load the saved model weights from the path specified in config\n",
    "\n",
    "# def predict_image(path, model):\n",
    "#     transform = transforms.Compose([\n",
    "#         transforms.Resize((150, 150)),\n",
    "#         transforms.ToTensor(),\n",
    "#         transforms.Normalize([0.5]*3, [0.5]*3)\n",
    "#     ])\n",
    "\n",
    "#     img = Image.open(path).convert('RGB')\n",
    "#     img = transform(img).unsqueeze(0)  # Add batch dimension\n",
    "\n",
    "#     model.eval()\n",
    "#     with torch.no_grad():\n",
    "#         pred = model(img)\n",
    "#         result = \"Dog\" if pred.item() > 0.5 else \"Cat\"\n",
    "#     print(f\"Prediction: {result}\")\n"
   ]
  },
  {
   "cell_type": "markdown",
   "id": "8738413b",
   "metadata": {},
   "source": [
    "### Loading and Evaluating the Trained Model\n",
    "\n",
    "The trained model is loaded from the checkpoint specified in the configuration. If the checkpoint exists, the model weights are restored and the model is set to evaluation mode. PyTorch Lightning's `Trainer` is then used to evaluate the model on the test dataset, providing a streamlined way to assess model performance after training."
   ]
  },
  {
   "cell_type": "code",
   "execution_count": null,
   "id": "684fc6fc",
   "metadata": {},
   "outputs": [],
   "source": [
    "model_path = config['path_to_model']\n",
    "if model_path and os.path.exists(model_path):\n",
    "    #model = CatsDogsModel.load_from_checkpoint(model_path, map_location=device)\n",
    "    model = KaninchenModel.load_from_checkpoint(model_path, map_location=device)\n",
    "    print(f\"Loaded model weights from {model_path}\")\n",
    "else:\n",
    "    print(\"Model path not found or not specified in config.\")\n",
    "\n",
    "# Ensure model is in eval mode\n",
    "model.eval()\n",
    "\n",
    "# Pytorch Lightning's Trainer can be used to test the model\n",
    "trainer = Trainer()\n",
    "trainer.test(model=model, dataloaders=test_loader)"
   ]
  }
 ],
 "metadata": {
  "kernelspec": {
   "display_name": "VDKI-Projekt",
   "language": "python",
   "name": "python3"
  },
  "language_info": {
   "codemirror_mode": {
    "name": "ipython",
    "version": 3
   },
   "file_extension": ".py",
   "mimetype": "text/x-python",
   "name": "python",
   "nbconvert_exporter": "python",
   "pygments_lexer": "ipython3",
   "version": "3.12.3"
  }
 },
 "nbformat": 4,
 "nbformat_minor": 5
}
